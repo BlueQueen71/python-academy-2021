{
 "cells": [
  {
   "cell_type": "markdown",
   "metadata": {},
   "source": [
    "# Engeto, Python akademie 2021, lekce#07"
   ]
  },
  {
   "cell_type": "markdown",
   "metadata": {},
   "source": [
    "<img src=https://www.codeitbro.com/wp-content/uploads/2020/07/python-meme-2-first-python-program.jpg width=\"300\">\n",
    "\n",
    "## Obsah lekce\n",
    "1. Pomocne odkazy\n",
    "2. Zabudovane funkce\n",
    "3. Uzivatelem definovane funkce\n",
    "4. Kod z minule lekce\n",
    "5. Zkracene prirazovani\n",
    "6. Vicenasobne prirazovani"
   ]
  },
  {
   "cell_type": "markdown",
   "metadata": {},
   "source": [
    "## 1. Pomocne odkazy\n",
    "* [Neoficialni dokumentace, pouziti seznamove komprehence (list comprehension)](http://howto.py.cz/cap08.htm#10)\n",
    "* [Neoficialni dokumentace, pouziti ternarniho operatoru (ternary operator)](https://book.pythontips.com/en/latest/ternary_operators.html)\n",
    "* [Oficialni dokumentace vsech built-in funkci v Pythonu (python.org)](https://docs.python.org/3/library/functions.html)\n",
    "* [Oficialni dokumentace, zkracene prirazovani (augmented assignment)(python.org)](https://www.python.org/dev/peps/pep-0203/)"
   ]
  },
  {
   "cell_type": "markdown",
   "metadata": {},
   "source": [
    "## 2. Zabudovane funkce\n",
    "Sada funkci, ktere ma interpret standartne k dispozici. Jsou dostupne po celou dobu behu interpretu. Spousty z nich jsme jiz videli. Niz je vypis nekterych (zbytek najdete [zde](https://docs.python.org/3/library/functions.html)):\n",
    "* `print`, `print(\"Ahoj, vsem na sedme lekci!\")`\n",
    "* `input`, `jmeno = input(); print(f\"Ahoj, jsem {jmeno}\")`\n",
    "* `eval`,  `x = 1; y = 2; eval(\"x + x*y\")`\n",
    "* `bool`, `bool(\"M\" in \"Matous\")`\n",
    "<br />\n",
    "\n",
    "### Vyhody pouziti:\n",
    "1. Uzivatel je **nemusi definovat**\n",
    "2. Staci je **spustit** pomoci jejich jmena (_zavolat_)\n",
    "3. Zapis je relativne **kratky**\n",
    "4. Struktura kodu je podstatne **citelnejsi**\n",
    "5. Zabudovanou funkci muzeme **opakovane pouzit** na vice mistech\n",
    "6. Zabudovane funkce maji spousty uzitecnych **nepovinnych argumentu**"
   ]
  },
  {
   "cell_type": "markdown",
   "metadata": {},
   "source": [
    "## 3. Uzivatelem definovane funkce\n",
    "Jsou takove funkce, ktere si musi uzivatel sam sestavit\n",
    "\n",
    "### K zapamatovani:\n",
    "1. Nejdrive funkci **vytvorim** (_definuji_), pote **spustim** (_zavolam_)\n",
    "2. `def` je klicovy vyraz, ktery interpret upozorni, ze se na radku vyskytuje **definice**\n",
    "3. `jmeno_funkce` je jmeno funkce, potrebne pro jeji **spusteni**\n",
    "4. `parametr_1, parametr_2` jsou **parametry funkce**. Promenne, se kterymi bude funkce pracovat\n",
    "5. `\"\"\"Popis ucelu...\"\"\"` dokumentace funkce, pokud jmeno funkce dostatecne **nevysvetluje ucel funkce** (prip. ma vetsi mnozstvi parametru)\n",
    "6. `return` volitelne ohlaseni, pokud ma funkce zpracovat & **vratit hodnotu**\n",
    "7. `jmeno_funkce()`, spusteni pomoci **jmena** a **kulate zavorky**\n",
    "8. `argument_1, argument_2` pokud mela funkce parametry, musime do nich dosadit skutecne **hodnoty argumentu**\n",
    "\n",
    "<br />\n",
    "\n",
    "\n",
    "### Vzorova **definice** funkce:"
   ]
  },
  {
   "cell_type": "code",
   "execution_count": null,
   "metadata": {},
   "outputs": [],
   "source": [
    "def jmeno_funkce(parametr_1, parametr_2):  # definice funkce\n",
    "    \"\"\"Popis ucelu funkce\"\"\"               # dokumentace funkce\n",
    "    ...                                    # odsazeny kod\n",
    "    return parametr_1 * parametr_2         # VOLITELNE: vraceni hodnoty"
   ]
  },
  {
   "cell_type": "markdown",
   "metadata": {},
   "source": [
    "### Vzorove **spousteni** funkce:"
   ]
  },
  {
   "cell_type": "code",
   "execution_count": null,
   "metadata": {},
   "outputs": [],
   "source": [
    "# jmeno_funkce(argument_1, argument_2)\n",
    "jmeno_funkce(2, 3)"
   ]
  },
  {
   "cell_type": "markdown",
   "metadata": {},
   "source": [
    "### Priklad funkce (...spatny):\n",
    "Ucelem nasledujici funkce je secist vsechny ciselne hodnoty, ktere vlozim jako argument:"
   ]
  },
  {
   "cell_type": "code",
   "execution_count": null,
   "metadata": {},
   "outputs": [],
   "source": [
    "def vypocitej_sumu(cisla):\n",
    "    \"\"\"Dokumentace funkce\"\"\"\n",
    "    suma_cisel = 0\n",
    "\n",
    "    for cislo in cisla:\n",
    "        suma_cisel = suma_cisel + cislo\n",
    "\n",
    "    return suma_cisel"
   ]
  },
  {
   "cell_type": "markdown",
   "metadata": {},
   "source": [
    "Spusteni funkce jiz mame nachystane, takze muzeme obsah upravit podle nasledujiciho zapisu:"
   ]
  },
  {
   "cell_type": "code",
   "execution_count": null,
   "metadata": {},
   "outputs": [],
   "source": [
    "SEZNAM_CISEL = [11, 22, 33, 44, 55, 66, 77, 88, 99]\n",
    "VYSLEDEK = vypocitej_sumu(SEZNAM_CISEL)\n",
    "print(f\"SUMA CISEL: {VYSLEDEK}\")"
   ]
  },
  {
   "cell_type": "markdown",
   "metadata": {},
   "source": [
    "### Co muzeme ve funkci `vypocitej_sumu` zlepsit?\n",
    "1. **Type hints** - napovidani datovych typu parametru a vracene hodnoty\n",
    "2. Odstranit dokumentaci. Jmeno je dostatecne vystizne\n",
    "3. **augmented assignment** (zkracene prirazovani)\n",
    "4. **Formatovany** string (f-string s funkcnim volanim)\n",
    "5. Pouzit **zabudovanou funkci** `sum` nez definuji vlastni"
   ]
  },
  {
   "cell_type": "code",
   "execution_count": null,
   "metadata": {},
   "outputs": [],
   "source": [
    "def vypocitej_sumu(cisla: list) -> int:\n",
    "    suma_cisel = 0\n",
    "\n",
    "    for cislo in cisla:\n",
    "        if isinstance(cislo, int):\n",
    "            suma_cisel += cislo\n",
    "\n",
    "    return suma_cisel"
   ]
  },
  {
   "cell_type": "code",
   "execution_count": null,
   "metadata": {
    "scrolled": true
   },
   "outputs": [],
   "source": [
    "SEZNAM_CISEL = [11, 22, 33, 44, 55, 66, 77, 88, 99]\n",
    "print(f\"SUMA CISEL: {vypocitej_sumu(SEZNAM_CISEL)}\")"
   ]
  },
  {
   "cell_type": "markdown",
   "metadata": {},
   "source": [
    "## FAQ funkce:\n",
    "* Jak moc mam funkce pouzivat? [ukazka](https://repl.it/@JustBraloR/functionintro)\n",
    "* Obejdu se bez nich?\n",
    "* Cemu se u psani funkci vyhnout?\n",
    "\n",
    "Spatne varianty pouziti funkce muze nastat, pokud definujete neco, co v Pythonu jiz funguje. Nejcasteji **pouziti vlastnich funkci**:"
   ]
  },
  {
   "cell_type": "code",
   "execution_count": null,
   "metadata": {},
   "outputs": [],
   "source": [
    "def pozdrav() -> None:\n",
    "    return \"Ahoj, vsichni!\""
   ]
  },
  {
   "cell_type": "code",
   "execution_count": null,
   "metadata": {},
   "outputs": [],
   "source": [
    "print(pozdrav())"
   ]
  },
  {
   "cell_type": "markdown",
   "metadata": {},
   "source": [
    "Pripadne pouziti **zbytecne sloziteho prepisovani** syntaxi:"
   ]
  },
  {
   "cell_type": "code",
   "execution_count": null,
   "metadata": {},
   "outputs": [],
   "source": [
    "class Zdravic:\n",
    "    def __repr__(self):\n",
    "        return \"Ahoj, vsichni!\""
   ]
  },
  {
   "cell_type": "code",
   "execution_count": null,
   "metadata": {},
   "outputs": [],
   "source": [
    "print(Zdravic())"
   ]
  },
  {
   "cell_type": "markdown",
   "metadata": {},
   "source": [
    "Nejprve se vzdy hodi zkontrolovat, jestli pro nase ucely neexistuje nejaka stavajici **zabudovana funkce**:"
   ]
  },
  {
   "cell_type": "code",
   "execution_count": null,
   "metadata": {},
   "outputs": [],
   "source": [
    "print(\"Ahoj, vsichni!\")"
   ]
  },
  {
   "cell_type": "markdown",
   "metadata": {},
   "source": [
    "## 4. Zapis z minule lekce\n",
    "Nyni zacneme upravovat nas zapis z minule lekce. Soubor `obesenec.py` nyni obsahuje radnu **duplicitniho kodu**. Soucasne uvnitr smycky najdeme **prebytecne vypisovani** podminek, ktere se hodi mit naopak mimo tento cyklus (zvysime citelnost).<br/>\n",
    "\n",
    "**POZOR!** Narozdil od seste lekce pouzivam modul `IPython.display`, ktery mi pomaha cistit vystup v ramci Jupyter-notebook."
   ]
  },
  {
   "cell_type": "code",
   "execution_count": null,
   "metadata": {},
   "outputs": [],
   "source": [
    "#!/usr/bin/python3\n",
    "from random import choice\n",
    "from IPython.display import clear_output  # import os -> alternativa\n",
    "\n",
    "import figurka\n",
    "\n",
    "\n",
    "slovo = choice([\"obesenec\", \"autobus\", \"klavesnice\", \"nedele\"])\n",
    "tajenka = [\"_\"] * len(slovo)\n",
    "zivoty = 7\n",
    "hra_bezi = True\n",
    "\n",
    "while hra_bezi and zivoty > 0:\n",
    "    clear_output()  # os.system(\"clear\")\n",
    "    print(\n",
    "        figurka.hangman[7 - zivoty],\n",
    "        f\"TAJENKA: {' '.join(tajenka)}, ZIVOTY: {zivoty}\",\n",
    "        sep=\"\\n\"\n",
    "    )\n",
    "    hadani = input(\"Hadej pismeno nebo cele slovo:\")\n",
    "\n",
    "    if hadani == slovo:\n",
    "        hra_bezi = False\n",
    "\n",
    "    elif len(hadani) == 1 and hadani in slovo:\n",
    "        for index, pismeno in enumerate(slovo):\n",
    "            if pismeno == hadani:\n",
    "                tajenka[index] = hadani\n",
    "\n",
    "        if \"_\" not in tajenka:\n",
    "            hra_bezi = False\n",
    "\n",
    "    else:\n",
    "        zivoty = zivoty - 1\n",
    "\n",
    "else:\n",
    "    if not hra_bezi:\n",
    "        clear_output()  # os.system(\"clear\")\n",
    "        print(f\"TAJENKA: {slovo}\", \"Super, zvladl jsi to!\", sep=\"\\n\")\n",
    "    else:\n",
    "        clear_output()  # os.system(\"clear\")\n",
    "        print(figurka.hangman[7 - zivoty], f\"Prohrals, *{slovo}*\", sep=\"\\n\")"
   ]
  },
  {
   "cell_type": "markdown",
   "metadata": {},
   "source": [
    "## Vsimnete si:\n",
    "1. Vypis **stavu hry** s drobnymi zmenami mame na trech mistech v zapisu\n",
    "2. **Vyber slova** & **vytvoreni tajenky** spolu souvisi. Proto je vytvorime ve spolecne funkci (do budoucna funkce muze nacitat slova ze souboru, webu, aj.)\n",
    "3. Overeni hadani po jednotlivych pismenech zpusobuje, ze je obsah smycky mene citelny. Obsah vetve `elif` presuneme."
   ]
  },
  {
   "cell_type": "markdown",
   "metadata": {},
   "source": [
    "## Zapis stavu hry pomoci funkce\n",
    "Opakujici se kod, ktery se v nasem zapisu vyskytuje, je mozne ihned nahradit dobre zapsanou funkci. V miste puvodnich syntaxi bude pouze volani funkce a definici vytvorime na uvod naseho souboru:"
   ]
  },
  {
   "cell_type": "code",
   "execution_count": null,
   "metadata": {},
   "outputs": [],
   "source": [
    "#!/usr/bin/python3\n",
    "from random import choice\n",
    "from IPython.display import clear_output\n",
    "\n",
    "import figurka\n",
    "\n",
    "slovo = choice([\"obesenec\", \"autobus\", \"klavesnice\", \"nedele\"])  # TODO\n",
    "tajenka = [\"_\"] * len(slovo)                                     # TODO\n",
    "zivoty = 7\n",
    "hra_bezi = True"
   ]
  },
  {
   "cell_type": "code",
   "execution_count": null,
   "metadata": {},
   "outputs": [],
   "source": [
    "def aktualni_stav_hry(tajenka: list, zivoty: int, beh_hry: bool) -> None:\n",
    "    clear_output()\n",
    "    status = f\"TAJENKA: {' '.join(tajenka)}, ZIVOTY: {zivoty}\"\n",
    "    print(figurka.hangman.get(7 - zivoty), status, sep=\"\\n\")\n",
    "    \n",
    "    if not beh_hry and zivoty > 0:\n",
    "        print(\"Vyhral jsi! Gratulace\")\n",
    "    elif zivoty == 0:\n",
    "        print(\"Prohral jsi! Snad priste\")"
   ]
  },
  {
   "cell_type": "code",
   "execution_count": null,
   "metadata": {},
   "outputs": [],
   "source": [
    "aktualni_stav_hry(tajenka, zivoty)"
   ]
  },
  {
   "cell_type": "markdown",
   "metadata": {},
   "source": [
    "<br />\n",
    "\n",
    "## Vyber tajneho slova a vytvoreni tajenky\n",
    "Seznam se vsemi slovy nepotrebujeme uvnitr naseho hlavniho kodu. Pozdeji muzeme slova nahravat z konkretniho souboru, prip. _scrapovat_ z webu. Proto vytvorime funkci, ktera provede vse potrebne za nas a vrati nam jednak **tajne slovo** (pro nezbytne overeni), jednak **tajenku**:"
   ]
  },
  {
   "cell_type": "code",
   "execution_count": null,
   "metadata": {},
   "outputs": [],
   "source": [
    "def vytvor_tajenku() -> tuple:\n",
    "    vyber_slov = [\"obesenec\", \"autobus\", \"klavesnice\", \"nedele\"]\n",
    "    return (slovo := choice(vyber_slov), [\"_\"] * len(slovo))"
   ]
  },
  {
   "cell_type": "code",
   "execution_count": null,
   "metadata": {},
   "outputs": [],
   "source": [
    "print(f\"(SLOVO, TAJENKA): {vytvor_tajenku()}\")"
   ]
  },
  {
   "cell_type": "markdown",
   "metadata": {},
   "source": [
    "## Overeni odhadu hrace\n",
    "Posledni funkci, kterou si napiseme bude overovani. Jde v podstate o radky v nasi puvodni podminkove vetvi `elif`. Cely tento zapis nahradime volanim nove funkce `zkontroluj_vybrane_pismeno`:"
   ]
  },
  {
   "cell_type": "code",
   "execution_count": 1,
   "metadata": {},
   "outputs": [],
   "source": [
    "def zkontroluj_vybrane_pismeno(pismeno: str, slovo: str, tajenka: list) -> bool:\n",
    "    for index, symbol in enumerate(slovo):\n",
    "        if symbol == pismeno:\n",
    "            tajenka[index] = pismeno\n",
    "    \n",
    "    # moznost napsat ternarni operator\n",
    "#     return False if \"_\" not in tajenka else True\n",
    "\n",
    "    # specialni hack pomoci integer hodnot boolean hodnot\n",
    "#     return (False, True)[\"_\" in tajenka]\n",
    "\n",
    "    if \"_\" not in tajenka:\n",
    "        return False\n",
    "    else:\n",
    "        return True"
   ]
  },
  {
   "cell_type": "markdown",
   "metadata": {},
   "source": [
    "## 5. Zkracene prirazovani\n",
    "Doposud jsme resili tuto variantu zapisu `x = x + y`. Obecne tedy `x = x <operator> y`, kdy `<operator>` muze byt `+`, `-`, `*`, atd. Zakladni komplikaci tohoto zapisu jsou vzdy **2 kroky**, ze kterych je tento postup slozeny:\n",
    "1. **Vytvoreni** nove promenne\n",
    "2. **Prirazeni** hodnoty\n",
    "\n",
    "Dalsi variantou pro postupne upravy hodnoty existujici promenne je **zkracene prirazovani** `x <operator>= y`.\n",
    "\n",
    "### Vyhody pouziti:\n",
    "1. Zkraceni puvodniho zapisu\n",
    "2. Citelnost zapisu zustava\n",
    "3. Princip je upravit puvodni hodnotu (1 krok)\n",
    "\n",
    "### Aplikace na nasi uloze\n",
    "Pojdme spolecne upravit podminkovou vetev `else`. Kde snizujeme hodnotu promenne `zivoty` pokazde, kdyz uzivatel neuhadne bud cele slovo, nebo aspon jedno pismeno.<br>\n",
    "\n",
    "```python\n",
    "else:\n",
    "    # TODO\n",
    "    zivoty = zivoty - 1\n",
    "```"
   ]
  },
  {
   "cell_type": "markdown",
   "metadata": {},
   "source": [
    "## 6. Vicenasobne prirazeni\n",
    "\n",
    "### Klasicke prirazeni hodnoty"
   ]
  },
  {
   "cell_type": "code",
   "execution_count": null,
   "metadata": {},
   "outputs": [],
   "source": [
    "JMENO = \"Matous\"; JMENO"
   ]
  },
  {
   "cell_type": "markdown",
   "metadata": {},
   "source": [
    "### Vicenasobne prirazeni (ls = ps)"
   ]
  },
  {
   "cell_type": "code",
   "execution_count": null,
   "metadata": {},
   "outputs": [],
   "source": [
    "jmeno_1, jmeno_2 = [\"Matous\", \"Lukas\"]  # PS: 2 nazvy promennych = LS: 2 udaje\n",
    "jmeno_1"
   ]
  },
  {
   "cell_type": "code",
   "execution_count": null,
   "metadata": {},
   "outputs": [],
   "source": [
    "jmeno_2"
   ]
  },
  {
   "cell_type": "markdown",
   "metadata": {},
   "source": [
    "Pomoci vicenasobneho prirazovani jsme schopni na jednom radku definovat **vice takovych odkazu**. Zasadnim pravidlem je, aby pocet jmeno promennych odpovidal poctu udaju v sekvenci.<br />\n",
    "\n",
    "### Vicenasobne prirazeni (pomoci symbolu `*`)"
   ]
  },
  {
   "cell_type": "code",
   "execution_count": null,
   "metadata": {},
   "outputs": [],
   "source": [
    "jmeno_1, jmeno_2, *zbytek_jmen = [\"Matous\", \"Marek\", \"Lukas\", \"Jan\"]\n",
    "jmeno_1"
   ]
  },
  {
   "cell_type": "code",
   "execution_count": null,
   "metadata": {},
   "outputs": [],
   "source": [
    "jmeno_2"
   ]
  },
  {
   "cell_type": "code",
   "execution_count": null,
   "metadata": {},
   "outputs": [],
   "source": [
    "zbytek_jmen"
   ]
  },
  {
   "cell_type": "markdown",
   "metadata": {},
   "source": [
    "Pokud potrebuji jen nektere udaje, pouziju operator `*`, ktery **zabali zbyvajici udaje** k sobe.<br />\n",
    "\n",
    "Funguje i varianta, kdy potrebuji prvni a posledni udaj. Zbytek zabalim viz. predchozi varianta:<br />"
   ]
  },
  {
   "cell_type": "code",
   "execution_count": null,
   "metadata": {},
   "outputs": [],
   "source": [
    "jmeno_1, *zbytek_jmen, jmeno_n = [\"Matous\", \"Marek\", \"Lukas\", \"Jan\"]\n",
    "jmeno_1"
   ]
  },
  {
   "cell_type": "code",
   "execution_count": null,
   "metadata": {},
   "outputs": [],
   "source": [
    "zbytek_jmen"
   ]
  },
  {
   "cell_type": "code",
   "execution_count": null,
   "metadata": {},
   "outputs": [],
   "source": [
    "jmeno_n"
   ]
  },
  {
   "cell_type": "markdown",
   "metadata": {},
   "source": [
    "### Spatne vicenasobne prirazovani"
   ]
  },
  {
   "cell_type": "code",
   "execution_count": null,
   "metadata": {},
   "outputs": [],
   "source": [
    "jmeno_1, jmeno_2 = [\"Matous\", \"Lukas\", \"Jan\"]"
   ]
  },
  {
   "cell_type": "markdown",
   "metadata": {},
   "source": [
    "## Zaverecny zapis\n",
    "Mame doplnene tyto funkce:\n",
    "1. `vytvor_tajenku` - pro vyber slova & vytvoreni tajenky\n",
    "2. `aktualni_stav_hry` - pro vypis aktualniho deni ve hre\n",
    "3. `zkontroluj_vybrane_pismeno` - pro kontrolu hracova hadaneho pismena\n",
    "<br>\n",
    "\n",
    "Soucasne jsme upravili zapis z minule lekce, aby nedochazelo k vyjimkam souvisejicim s neexistujicimi nazvy promennych, funkci, aj.<br>"
   ]
  },
  {
   "cell_type": "code",
   "execution_count": null,
   "metadata": {},
   "outputs": [],
   "source": [
    "slovo, tajenka = vytvor_tajenku()\n",
    "\n",
    "while hra_bezi and zivoty > 0:\n",
    "    aktualni_stav_hry(tajenka, zivoty, hra_bezi)\n",
    "    hadani = input(\"Hadej pismeno nebo cele slovo:\")\n",
    "\n",
    "    if hadani == slovo:\n",
    "        hra_bezi = False\n",
    "\n",
    "    elif len(hadani) == 1 and hadani in slovo:\n",
    "        hra_bezi = zkontroluj_vybrane_pismeno(hadani, slovo, tajenka)\n",
    "\n",
    "    else:\n",
    "        zivoty -= 1\n",
    "\n",
    "else:\n",
    "    aktualni_stav_hry(slovo, zivoty, hra_bezi)"
   ]
  }
 ],
 "metadata": {
  "kernelspec": {
   "display_name": "Python 3",
   "language": "python",
   "name": "python3"
  },
  "language_info": {
   "codemirror_mode": {
    "name": "ipython",
    "version": 3
   },
   "file_extension": ".py",
   "mimetype": "text/x-python",
   "name": "python",
   "nbconvert_exporter": "python",
   "pygments_lexer": "ipython3",
   "version": "3.8.5"
  }
 },
 "nbformat": 4,
 "nbformat_minor": 4
}
