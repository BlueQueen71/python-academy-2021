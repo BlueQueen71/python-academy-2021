{
 "cells": [
  {
   "cell_type": "markdown",
   "metadata": {},
   "source": [
    "# Engeto, Python akademie 2021, lekce#11"
   ]
  },
  {
   "cell_type": "markdown",
   "metadata": {},
   "source": [
    "<img src=https://media.giphy.com/media/Y0b2MpUTfnrUa3jIM7/giphy.gif width=\"400\">\n",
    "\n",
    "### Obsah lekce:\n",
    "1. Balík JSON\n",
    "2. Modul CSV"
   ]
  },
  {
   "cell_type": "markdown",
   "metadata": {},
   "source": [
    "### Užitečné odkazy:\n",
    "- [Pomocný nástroj **generátor náhodných slov** (mockaroo.com)](https://mockaroo.com/)\n",
    "- [Oficiální dokumentace balíku **json** (python.org)](https://docs.python.org/3/library/json.html)\n",
    "- [Oficiální dokumentace modulu **sys** (python.org)](https://docs.python.org/3/library/sys.html)\n",
    "- [Oficiální dokumentace modulu **os**(python.org)](https://docs.python.org/3/library/os.html)"
   ]
  },
  {
   "cell_type": "markdown",
   "metadata": {},
   "source": [
    "### Opakovací cvičení\n",
    "Nejprve rychle zopakujeme minulé lekce. Proto mějme 4 textové soubory v adresáři `11_json_and_csv/samples`:\n",
    "* sample_1.txt\n",
    "* sample_2.txt\n",
    "* sample_3.txt\n",
    "* sample_4.txt\n",
    "\n",
    "Chceme postupně jeden za druhým otevřít, získat jejich obsah a společně uložit do námi vybranné proměnné."
   ]
  },
  {
   "cell_type": "markdown",
   "metadata": {},
   "source": [
    "#### Zadaná jména souborů:"
   ]
  },
  {
   "cell_type": "code",
   "execution_count": 1,
   "metadata": {},
   "outputs": [],
   "source": [
    "import os"
   ]
  },
  {
   "cell_type": "code",
   "execution_count": 2,
   "metadata": {},
   "outputs": [],
   "source": [
    "JMENA_SOUBORU = [\n",
    "    \"sample_1.txt\", \"sample_2.txt\",\n",
    "    \"sample_3.txt\", \"sample_3_3/4.txt\",\n",
    "    \"sample_4.txt\",    \n",
    "]"
   ]
  },
  {
   "cell_type": "markdown",
   "metadata": {},
   "source": [
    "#### Vytvoření absolutní/relativní cesty:"
   ]
  },
  {
   "cell_type": "code",
   "execution_count": 3,
   "metadata": {},
   "outputs": [],
   "source": [
    "# relativni cesta\n",
    "jmena_souboru = [\n",
    "    os.path.join(\"samples\", jmeno)\n",
    "    for jmeno in JMENA_SOUBORU\n",
    "]"
   ]
  },
  {
   "cell_type": "code",
   "execution_count": 4,
   "metadata": {},
   "outputs": [
    {
     "name": "stdout",
     "output_type": "stream",
     "text": [
      "['samples/sample_1.txt', 'samples/sample_2.txt', 'samples/sample_3.txt', 'samples/sample_3_3/4.txt', 'samples/sample_4.txt']\n"
     ]
    }
   ],
   "source": [
    "print(jmena_souboru)"
   ]
  },
  {
   "cell_type": "code",
   "execution_count": null,
   "metadata": {},
   "outputs": [],
   "source": [
    "# absolutni cesta\n",
    "jmena_souboru = [\n",
    "    os.path.join(os.path.abspath(jmeno))\n",
    "    for jmeno in JMENA_SOUBORU\n",
    "]"
   ]
  },
  {
   "cell_type": "code",
   "execution_count": null,
   "metadata": {
    "scrolled": true
   },
   "outputs": [],
   "source": [
    "print(jmena_souboru)"
   ]
  },
  {
   "cell_type": "code",
   "execution_count": null,
   "metadata": {},
   "outputs": [],
   "source": [
    "jmena_souboruu = map(os.path.abspath, \"samples\", JMENA_SOUBORU)"
   ]
  },
  {
   "cell_type": "markdown",
   "metadata": {},
   "source": [
    "#### Čtení jednoho souboru:"
   ]
  },
  {
   "cell_type": "code",
   "execution_count": 5,
   "metadata": {},
   "outputs": [],
   "source": [
    "def precti_soubor(jmeno: str) -> str:\n",
    "    try:\n",
    "        soubor = open(jmeno, mode=\"r\", encoding=\"utf-8\")\n",
    "    except FileNotFoundError as err:\n",
    "        print(f\"File {jmeno} not found!\")\n",
    "        print(err.args)\n",
    "    else:\n",
    "        obsah: str = soubor.read()\n",
    "        soubor.close()\n",
    "        return obsah       "
   ]
  },
  {
   "cell_type": "markdown",
   "metadata": {},
   "source": [
    "#### Celý průběh"
   ]
  },
  {
   "cell_type": "code",
   "execution_count": 6,
   "metadata": {},
   "outputs": [],
   "source": [
    "from typing import List\n",
    "\n",
    "\n",
    "def uloz_data(soubory: List[str], prazdny_seznam: None = None) -> str:\n",
    "    if not prazdny_seznam:\n",
    "        prazdny_seznam = list()\n",
    "\n",
    "    for jmeno in soubory:\n",
    "        prazdny_seznam.append(precti_soubor(jmeno))\n",
    "    return prazdny_seznam"
   ]
  },
  {
   "cell_type": "code",
   "execution_count": 7,
   "metadata": {},
   "outputs": [
    {
     "name": "stdout",
     "output_type": "stream",
     "text": [
      "File samples/sample_3_3/4.txt not found!\n",
      "(2, 'No such file or directory')\n"
     ]
    }
   ],
   "source": [
    "data: List[str] = uloz_data(jmena_souboru)"
   ]
  },
  {
   "cell_type": "code",
   "execution_count": 8,
   "metadata": {},
   "outputs": [
    {
     "name": "stdout",
     "output_type": "stream",
     "text": [
      "['Toto je prvni radek\\n', 'Toto je druhy radek\\nToto je treti radek\\n', '', None, 'Toto je ctvrty radek\\n']\n"
     ]
    }
   ],
   "source": [
    "print(data)"
   ]
  },
  {
   "cell_type": "markdown",
   "metadata": {},
   "source": [
    "### Soubor `.json`\n",
    "Účelně zjednoduššený formát, určený pro přenos dat & objektů (JSON ~ JavaScript Object Notation), tedy standartní formát pro výměnu dat.<br />\n",
    "\n",
    "Jeho účelem je zřejmý, používá se k přenosu dat mezi webovou aplikací a serverem. Je snadno čitelný, lehce formátovatelný, poměrně často používaný.<br />\n",
    "\n",
    "Při prvním pohledu můžeme říct, že se podobá Pythonovskému slovníku. Nicméně má svoji vlastní charakteristickou sadu pravidel:\n",
    "\n",
    "| JSON | Python |\n",
    "| :-: | :-: |\n",
    "| string | str |\n",
    "| true | True |\n",
    "| false | False |\n",
    "| null | None |\n",
    "\n",
    "*pozn.* jde o mapování jednotlivý datových typů na jiné ([zdroj](https://docs.python.org/3/library/json.html#encoders-and-decoders))"
   ]
  },
  {
   "cell_type": "markdown",
   "metadata": {},
   "source": [
    "#### Ukázka souboru `json`"
   ]
  },
  {
   "cell_type": "markdown",
   "metadata": {},
   "source": [
    "```python\n",
    "{\n",
    "    \"jmeno\": \"Chuck Norris\",\n",
    "    \"neuspech\": null,\n",
    "    \"kliky\": \"vsechny\",\n",
    "    \"konkurence\": false,\n",
    "}\n",
    "```"
   ]
  },
  {
   "cell_type": "markdown",
   "metadata": {},
   "source": [
    "#### Co všechno můžeme provést:"
   ]
  },
  {
   "cell_type": "code",
   "execution_count": null,
   "metadata": {},
   "outputs": [],
   "source": [
    "import json  # nahrajeme balik 'json'"
   ]
  },
  {
   "cell_type": "code",
   "execution_count": null,
   "metadata": {},
   "outputs": [],
   "source": [
    "help(json)"
   ]
  },
  {
   "cell_type": "code",
   "execution_count": null,
   "metadata": {},
   "outputs": [],
   "source": [
    "dir(json)"
   ]
  },
  {
   "cell_type": "markdown",
   "metadata": {},
   "source": [
    "#### Vyzkoušíme si následující\n",
    "| jméno metody | účel metody |\n",
    "| :-| :- |\n",
    "| json.load(m) | načte JSON data ze souboru (objektu) |\n",
    "| json.loads(m) | načte JSON data ze stringu |\n",
    "| json.dump(m, n) | zapíše JSON objekt do souboru (objektu) |\n",
    "| json.dumps(m) | zapíše JSON objekt do stringu |\n",
    "\n",
    "*pozn* `m` je objekt (proměnná), `n` je jméno souboru"
   ]
  },
  {
   "cell_type": "markdown",
   "metadata": {},
   "source": [
    "#### Vytvoříme nový soubor `.json`\n",
    "Obecně se při práci se soubory typu `json` mluví o *serialization* a *deserialization* (tedy čtení a zápis), ke kterým patří příslušné funkce uvedené výše v tabulce."
   ]
  },
  {
   "cell_type": "code",
   "execution_count": null,
   "metadata": {},
   "outputs": [],
   "source": [
    "chuck_sl = {\n",
    "    \"jmeno\": \"Chuck Norris\",\n",
    "    \"neuspech\": None,\n",
    "    \"kliky\": \"vsechny\",\n",
    "    \"konkurence\": False,\n",
    "}"
   ]
  },
  {
   "cell_type": "code",
   "execution_count": null,
   "metadata": {},
   "outputs": [],
   "source": [
    "import json"
   ]
  },
  {
   "cell_type": "code",
   "execution_count": null,
   "metadata": {},
   "outputs": [],
   "source": [
    "vypis_json = json.dumps(chuck_sl)"
   ]
  },
  {
   "cell_type": "code",
   "execution_count": null,
   "metadata": {
    "scrolled": true
   },
   "outputs": [],
   "source": [
    "print(vypis_json)"
   ]
  },
  {
   "cell_type": "code",
   "execution_count": null,
   "metadata": {},
   "outputs": [],
   "source": [
    "zapis_json = open(\"prvni_json.json\", mode=\"w\", encoding=\"utf-8\")\n",
    "json.dump(chuck_sl, zapis_json, ensure_ascii=False)\n",
    "zapis_json.close()"
   ]
  },
  {
   "cell_type": "markdown",
   "metadata": {},
   "source": [
    "#### Načteme existující soubor `.json`"
   ]
  },
  {
   "cell_type": "code",
   "execution_count": null,
   "metadata": {},
   "outputs": [],
   "source": [
    "existujici_json = open(\"prvni_json.json\", \"r\", encoding=\"utf-8\")"
   ]
  },
  {
   "cell_type": "code",
   "execution_count": null,
   "metadata": {},
   "outputs": [],
   "source": [
    "print(existujici_json)"
   ]
  },
  {
   "cell_type": "code",
   "execution_count": null,
   "metadata": {},
   "outputs": [],
   "source": [
    "obsah_json = json.load(existujici_json)\n",
    "print(obsah_json)"
   ]
  },
  {
   "cell_type": "markdown",
   "metadata": {},
   "source": [
    "#### Doplňující argumenty\n",
    "1. __indent=4__ - odsadí zapsaný `json` o 4 mezery\n",
    "2. __sort\\_keys__ - seřadí klíče (`True`/`False`)"
   ]
  },
  {
   "cell_type": "markdown",
   "metadata": {},
   "source": [
    "### První část naší úlohy\n",
    "Získali jsme soubor **json**. Naším prvním úkolem bude tento soubor otevřít a načíst pomocí Pythonu. Nejprve si společně soubor (`ORIG.json`) najdeme a podíváme se, co je jeho obsahem:"
   ]
  },
  {
   "cell_type": "code",
   "execution_count": null,
   "metadata": {},
   "outputs": [],
   "source": [
    "import json"
   ]
  },
  {
   "cell_type": "code",
   "execution_count": null,
   "metadata": {},
   "outputs": [],
   "source": [
    "with open(\"ORIG.json\", \"r\", encoding=\"utf-8\") as json_i:\n",
    "    zamestnanci = json.load(json_i)"
   ]
  },
  {
   "cell_type": "code",
   "execution_count": null,
   "metadata": {},
   "outputs": [],
   "source": [
    "print(zamestnanci)"
   ]
  },
  {
   "cell_type": "markdown",
   "metadata": {},
   "source": [
    "#### Opravdu tento soubor existuje?"
   ]
  },
  {
   "cell_type": "code",
   "execution_count": null,
   "metadata": {},
   "outputs": [],
   "source": [
    "import os\n",
    "import json"
   ]
  },
  {
   "cell_type": "code",
   "execution_count": null,
   "metadata": {},
   "outputs": [],
   "source": [
    "rel_cesta = \"ORIG.json\""
   ]
  },
  {
   "cell_type": "code",
   "execution_count": null,
   "metadata": {
    "scrolled": true
   },
   "outputs": [],
   "source": [
    "if os.path.isfile(rel_cesta):\n",
    "    print(f\"Soubor \\\"{rel_cesta}\\\" nalezen\")\n",
    "    with open(\"ORIG.json\", \"r\", encoding=\"utf-8\") as json_i:\n",
    "        zamestnanci = json.load(json_i)\n",
    "    \n",
    "else:\n",
    "    print(f\"Soubor \\\"{rel_cesta}\\\" neexistuje\")"
   ]
  },
  {
   "cell_type": "code",
   "execution_count": null,
   "metadata": {},
   "outputs": [],
   "source": [
    "from pprint import pprint\n",
    "pprint(zamestnanci[1][\"email\"])"
   ]
  },
  {
   "cell_type": "markdown",
   "metadata": {},
   "source": [
    "### Druhá část úlohy\n",
    "Jakmile máme zaměstnance načtené uvnitř proměnné `zamestnanci`, chceme označit jen 3 konkrétní klíče:\n",
    "\n",
    "1. **jmeno** (`first_name`)\n",
    "2. **prijmeni** (`last_name`)\n",
    "3. **email** (`email`)"
   ]
  },
  {
   "cell_type": "code",
   "execution_count": null,
   "metadata": {
    "scrolled": true
   },
   "outputs": [],
   "source": [
    "for zamestnanec in zamestnanci:\n",
    "    print(zamestnanec[\"first_name\"],\n",
    "          zamestnanec[\"last_name\"],\n",
    "          zamestnanec[\"email\"], sep=\";\")"
   ]
  },
  {
   "cell_type": "code",
   "execution_count": null,
   "metadata": {},
   "outputs": [],
   "source": [
    "pars_zamestnanci = {f\"{','.join((zamestnanec['first_name'], zamestnanec['last_name']))}\": zamestnanec[\"email\"] for zamestnanec in zamestnanci}"
   ]
  },
  {
   "cell_type": "code",
   "execution_count": null,
   "metadata": {},
   "outputs": [],
   "source": [
    "print(pars_zamestnanci)"
   ]
  },
  {
   "cell_type": "markdown",
   "metadata": {},
   "source": [
    "### Modul csv\n",
    "Je formát založený na hodnotách obecně oddělených určeným oddělovačem (~ comma-separated values). Dále je psaný v určitém\n",
    "dialektu (ten se může lišit v závislosti na os, zemi, aj.).<br />\n",
    "\n",
    "Základní stavební jednotkou jsou v podstatě buňky (podobné jako MS Excel), které jsou naskládané do řádků a sloupců.\n",
    "\n",
    "#### Možnosti modulu csv"
   ]
  },
  {
   "cell_type": "code",
   "execution_count": null,
   "metadata": {},
   "outputs": [],
   "source": [
    "import csv"
   ]
  },
  {
   "cell_type": "code",
   "execution_count": null,
   "metadata": {},
   "outputs": [],
   "source": [
    "help(csv)"
   ]
  },
  {
   "cell_type": "code",
   "execution_count": null,
   "metadata": {},
   "outputs": [],
   "source": [
    "dir(csv)"
   ]
  },
  {
   "cell_type": "markdown",
   "metadata": {},
   "source": [
    "#### Vyzkoušíme si následující\n",
    "| jméno objektu | účel metody |\n",
    "| :-| :- |\n",
    "| csv.reader(m) | funkce vrátí iterovatelný objekt (co cyklus, to řádek) |\n",
    "| csv.writer(m) | funkce zapíše objekt do souboru (+ `writerows`)|\n",
    "| csv.DictWriter(m) | třída pro zápis slovníku do souboru |\n",
    "| csv.DictReader(m) | třída pro čtení souboru do slovníku |\n",
    "\n",
    "*pozn* `m` je objekt (proměnná)"
   ]
  },
  {
   "cell_type": "markdown",
   "metadata": {},
   "source": [
    "Základní dva procesy, které budeme provádět jsou:\n",
    "1. __čtení__ souboru `csv`\n",
    "2. __zápis__ do souboru `csv`"
   ]
  },
  {
   "cell_type": "markdown",
   "metadata": {},
   "source": [
    "#### Vytvoříme soubor s příp. `.csv`"
   ]
  },
  {
   "cell_type": "code",
   "execution_count": null,
   "metadata": {},
   "outputs": [],
   "source": [
    "import csv"
   ]
  },
  {
   "cell_type": "code",
   "execution_count": null,
   "metadata": {},
   "outputs": [],
   "source": [
    "ZAHLAVI = [\"jmeno\", \"prijmeni\", \"vek\"]\n",
    "OS_1 = [\"Matous\", \"Holinka\", \"28\"]\n",
    "OS_2 = [\"Petr\", \"Svetr\", \"27\"]"
   ]
  },
  {
   "cell_type": "code",
   "execution_count": null,
   "metadata": {},
   "outputs": [],
   "source": [
    "zapis_csv = open(\"prvni_tabulky.csv\", \"w\", encoding=\"utf-8\")\n",
    "print(zapis_csv)"
   ]
  },
  {
   "cell_type": "code",
   "execution_count": null,
   "metadata": {},
   "outputs": [],
   "source": [
    "zapis = csv.writer(zapis_csv, delimiter=\",\")"
   ]
  },
  {
   "cell_type": "code",
   "execution_count": null,
   "metadata": {},
   "outputs": [],
   "source": [
    "zapis.writerow(ZAHLAVI)\n",
    "zapis.writerow(OS_1)\n",
    "zapis.writerow(OS_2)"
   ]
  },
  {
   "cell_type": "code",
   "execution_count": null,
   "metadata": {},
   "outputs": [],
   "source": [
    "zapis_csv.close()"
   ]
  },
  {
   "cell_type": "markdown",
   "metadata": {},
   "source": [
    "#### Přečteme obsah souboru `.csv`"
   ]
  },
  {
   "cell_type": "code",
   "execution_count": null,
   "metadata": {},
   "outputs": [],
   "source": [
    "cteni_csv = open(\"prvni_tabulky.csv\", \"r\", encoding=\"utf-8\")"
   ]
  },
  {
   "cell_type": "code",
   "execution_count": null,
   "metadata": {},
   "outputs": [],
   "source": [
    "cteni = csv.reader(cteni_csv, dialect=\"excel\")"
   ]
  },
  {
   "cell_type": "code",
   "execution_count": null,
   "metadata": {},
   "outputs": [],
   "source": [
    "for radek in cteni:\n",
    "    print(radek)"
   ]
  },
  {
   "cell_type": "code",
   "execution_count": null,
   "metadata": {},
   "outputs": [],
   "source": [
    "cteni_csv.close()"
   ]
  },
  {
   "cell_type": "markdown",
   "metadata": {},
   "source": [
    "### Třetí část naší úlohy\n",
    "Nyní, když máme nachystané všechny údaje, uložíme je do souboru `csv`. Chceme, aby byl na každém řádku nejprve jméno, příjmení a ve druhém sloupci e-mailová adresa."
   ]
  },
  {
   "cell_type": "code",
   "execution_count": null,
   "metadata": {},
   "outputs": [],
   "source": [
    "with open(\"ORIG.csv\", \"w\", encoding=\"utf-8\") as csv_out:\n",
    "    jmena_sl = [\"jmeno\", \"email\"]\n",
    "    zapis = csv.DictWriter(csv_out, fieldnames=jmena_sl)\n",
    "    zapis.writeheader()\n",
    "    \n",
    "    for klic, hodnota in pars_zamestnanci.items():\n",
    "        zapis.writerow({\"jmeno\": klic, \"email\": hodnota})"
   ]
  },
  {
   "cell_type": "code",
   "execution_count": null,
   "metadata": {
    "scrolled": false
   },
   "outputs": [],
   "source": [
    "with open(\"ORIG.csv\", \"r\", encoding=\"utf-8\") as csv_in:\n",
    "    cteni = csv.DictReader(csv_in, delimiter=\",\")\n",
    "    \n",
    "    for radek in cteni:\n",
    "        print(radek)"
   ]
  },
  {
   "cell_type": "code",
   "execution_count": null,
   "metadata": {},
   "outputs": [],
   "source": []
  },
  {
   "cell_type": "markdown",
   "metadata": {},
   "source": [
    "### Spouštění souboru s argumenty\n",
    "Pomocí knihovny `sys` a argumentů můžeme náš soubor napsat ještě flexibilnější (*pozn.* spouštím v přík. řádku):"
   ]
  },
  {
   "cell_type": "code",
   "execution_count": null,
   "metadata": {},
   "outputs": [],
   "source": [
    "import sys"
   ]
  },
  {
   "cell_type": "code",
   "execution_count": null,
   "metadata": {},
   "outputs": [],
   "source": [
    "print(sys.argv)"
   ]
  },
  {
   "cell_type": "markdown",
   "metadata": {},
   "source": [
    "Nyní doplníme pomocí argumentů jméno vstupního souboru a výstupního souboru. Spouštění souboru s dnešní úlohou by potom mohlo vypadat následně:\n",
    "```bash\n",
    "$ python3 <jmeno_souboru> <jmeno_json-u> <jmeno_csv-cka>\n",
    "```"
   ]
  },
  {
   "cell_type": "code",
   "execution_count": null,
   "metadata": {},
   "outputs": [],
   "source": [
    "import os\n",
    "import sys\n",
    "import json"
   ]
  },
  {
   "cell_type": "code",
   "execution_count": null,
   "metadata": {},
   "outputs": [],
   "source": [
    "if not sys.argv[1] and not sys.argv[2]:\n",
    "    sys.exit(\"ukoncuji..\")\n",
    "else:\n",
    "    jmeno_vstup = sys.argv[1]  # jmeno vstup\n",
    "    jmeno_vystup = sys.argv[2]  # jmeno vystup"
   ]
  },
  {
   "cell_type": "code",
   "execution_count": null,
   "metadata": {
    "scrolled": true
   },
   "outputs": [],
   "source": [
    "if os.path.isfile(jmeno_vstup):\n",
    "    print(f\"Soubor \\\"{jmeno_vstup}\\\" nalezen!\")\n",
    "    with open(jmeno_vstup, \"r\", encoding=\"utf-8\") as json_i:\n",
    "        zamestnanci = json.load(json_i)\n",
    "    \n",
    "else:\n",
    "    print(f\"Soubor \\\"{jmeno_vstup}\\\" neexistuje!\")"
   ]
  },
  {
   "cell_type": "code",
   "execution_count": null,
   "metadata": {},
   "outputs": [],
   "source": [
    "pars_zamestnanci = {f\"{','.join((zamestnanec['first_name'], zamestnanec['last_name']))}\": zamestnanec[\"email\"] for zamestnanec in zamestnanci}"
   ]
  },
  {
   "cell_type": "code",
   "execution_count": null,
   "metadata": {},
   "outputs": [],
   "source": [
    "with open(jmeno_vystup, \"w\", encoding=\"utf-8\") as csv_out:\n",
    "    jmena_sl = [\"jmeno\", \"email\"]\n",
    "    zapis = csv.DictWriter(csv_out, fieldnames=jmena_sl)\n",
    "    zapis.writeheader()\n",
    "    \n",
    "    for klic, hodnota in pars_zamestnanci.items():\n",
    "        zapis.writerow({\"jmeno\": klic, \"email\": hodnota})"
   ]
  }
 ],
 "metadata": {
  "kernelspec": {
   "display_name": "Python 3",
   "language": "python",
   "name": "python3"
  },
  "language_info": {
   "codemirror_mode": {
    "name": "ipython",
    "version": 3
   },
   "file_extension": ".py",
   "mimetype": "text/x-python",
   "name": "python",
   "nbconvert_exporter": "python",
   "pygments_lexer": "ipython3",
   "version": "3.8.5"
  }
 },
 "nbformat": 4,
 "nbformat_minor": 4
}
