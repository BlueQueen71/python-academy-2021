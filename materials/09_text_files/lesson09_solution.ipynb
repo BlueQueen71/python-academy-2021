{
 "cells": [
  {
   "cell_type": "markdown",
   "metadata": {},
   "source": [
    "## Engeto, Python akademie 2021, lekce#09"
   ]
  },
  {
   "cell_type": "markdown",
   "metadata": {},
   "source": [
    "###  Obsah lekce\n",
    "\n",
    "1. Uzitecne odkazy\n",
    "2. Opakovani z minule lekce\n",
    "3. Textove soubory\n",
    "4. Formatovani retezcu\n",
    "5. if name == main\n",
    "6. File IO"
   ]
  },
  {
   "cell_type": "markdown",
   "metadata": {},
   "source": [
    "---\n",
    "### Uzitecne odkazy:\n",
    "- Hledani [modulu](https://docs.python.org/3/tutorial/modules.html#the-module-search-path)\n",
    "- Instalator balicku [pip](https://pypi.org/project/pip/)\n",
    "- [Pycharm importing](https://www.jetbrains.com/help/pycharm/installing-uninstalling-and-upgrading-packages.html)\n",
    "- [Name == '__main__'](https://www.geeksforgeeks.org/what-does-the-if-__name__-__main__-do/)\n",
    "- [neoficialni dokumentace **escape characters** (mathplotlib.org)](https://linuxconfig.org/list-of-python-escape-sequence-characters-with-examples)\n",
    "- []\n",
    "---\n"
   ]
  },
  {
   "cell_type": "markdown",
   "metadata": {},
   "source": [
    "### Opakovani\n",
    "<neco vymyslet>"
   ]
  },
  {
   "cell_type": "markdown",
   "metadata": {},
   "source": [
    "---\n",
    "### Práce se soubory (file I/O)\n",
    "\n",
    "#### Motivace\n",
    "Chceme tvořit univerzálnější programy, které umí delegovat práci s různymi soubory na interpret Pythonu.\n",
    "\n",
    "#### Ukázka\n",
    "```bash\n",
    "$ python3 mega_backup.py <email> <jmeno_archivu>\n",
    "```\n",
    "\n",
    "#### Textové soubory\n",
    "Částí lekce bude zejména práce s textovými soubory. Jejich otevírání, zavírání, čtení & zápis, atd.\n",
    "\n",
    "#### Nový textový soubor\n",
    "Abychom mohli vytvočit nový textový soubor, budeme muset nejprve napsat instrukce pro interpret Pythonu, aby jej vytvořil. V pracovním adresáři vytvoříme nový soubor pro Python (příp. `.py`):"
   ]
  },
  {
   "cell_type": "markdown",
   "metadata": {},
   "source": [
    "```bash\n",
    "$ touch uvod_do_io.py\n",
    "```"
   ]
  },
  {
   "cell_type": "markdown",
   "metadata": {},
   "source": [
    "Do tohoto souboru pak zapíšeme vámi předchystaný text (nějáký libovolný string):"
   ]
  },
  {
   "cell_type": "code",
   "execution_count": null,
   "metadata": {},
   "outputs": [],
   "source": [
    "TEXT = \"Ahoj, ja jsem Matous\\nRad ctu, hraji na klavir\\nA co ty?:)\""
   ]
  },
  {
   "cell_type": "markdown",
   "metadata": {},
   "source": [
    "Všimněte si speciálních znaků `\\n`, které jsou uvnitř proměnné `TEXT`, jejich účelem je oddělení textu na nový řádek.<br /> \n",
    "\n",
    "Proměnnou `TEXT` chceme zapsat jako skutečný text do nového souboru, který pojmenujeme `pokusny_soubor.txt`:"
   ]
  },
  {
   "cell_type": "code",
   "execution_count": null,
   "metadata": {},
   "outputs": [],
   "source": [
    "novy_soubor = open(\"pokusny_soubor.txt\")\n",
    "novy_soubor.write(TEXT)"
   ]
  },
  {
   "cell_type": "markdown",
   "metadata": {},
   "source": [
    "Z nějakého důvodu nám program vrátil chybu `FileNotFoundError`. Nejprve nastudujeme funkci `open`:\n",
    "```bash\n",
    ">>> help(open)  # vypis napovedy\n",
    "```"
   ]
  },
  {
   "cell_type": "code",
   "execution_count": null,
   "metadata": {
    "scrolled": false
   },
   "outputs": [],
   "source": [
    "help(open)"
   ]
  },
  {
   "cell_type": "markdown",
   "metadata": {},
   "source": [
    "Defaultní nastavení funkce `open` soubor otevírá v režimu čtení. Proto je potřeba režim změnit, pokud našim účelem není čtění, ale zápis.\n",
    "Nastavíme proto nepovinný argument `mode=\"w\"`, příp. přímo `\"w\"`:"
   ]
  },
  {
   "cell_type": "code",
   "execution_count": null,
   "metadata": {},
   "outputs": [],
   "source": [
    "novy_soubor = open(\"pokusny_soubor.txt\", mode=\"w\")\n",
    "novy_soubor.write(TEXT)"
   ]
  },
  {
   "cell_type": "markdown",
   "metadata": {},
   "source": [
    "Výstup nám vypíše číslo reprezentující počet zapsaných znaků a vytvoří soubor `\"pokusny_soubor.txt\"`.<br />\n",
    "\n",
    "Nicméně je potřeba dávat si pozor. Soubor je nyní vytvořený, ale současně jej mám pořád inicializovaný a otevřený v paměti počítače. Než jej ručně otevřu, musím objekt v Pythonu uzavřít:"
   ]
  },
  {
   "cell_type": "code",
   "execution_count": null,
   "metadata": {},
   "outputs": [],
   "source": [
    "novy_soubor.close()"
   ]
  },
  {
   "cell_type": "markdown",
   "metadata": {},
   "source": [
    "#### Cteni existujiciho souboru\n",
    "Chceme se dnes však naučit zapisovat a číst textové soubory pomocí **Pythonu**, ne pomocí **gui**.<br />\n",
    "\n",
    "V první části jsme zjistili, že defaultní nastavení funkce `open` má existující soubor přečíst:"
   ]
  },
  {
   "cell_type": "code",
   "execution_count": null,
   "metadata": {},
   "outputs": [],
   "source": [
    "existujici_soub = open(\"pokusny_soubor.txt\")"
   ]
  },
  {
   "cell_type": "code",
   "execution_count": null,
   "metadata": {},
   "outputs": [],
   "source": [
    "print(existujici_soub)"
   ]
  },
  {
   "cell_type": "markdown",
   "metadata": {},
   "source": [
    "Samotná funkce `print` nám nyní vypíše detaily týkající se objektu, který vytvoří interpret Pythonu.\n",
    "\n",
    "Pro přečtení obsahu musíme použít vhodnou metodu:"
   ]
  },
  {
   "cell_type": "code",
   "execution_count": null,
   "metadata": {
    "scrolled": true
   },
   "outputs": [],
   "source": [
    "print(existujici_soub.read())"
   ]
  },
  {
   "cell_type": "markdown",
   "metadata": {},
   "source": [
    "Metody pro čtění obsahu **TextIOWrapper** objektu:\n",
    "1. `read` - přečte celý soubor jako jeden string\n",
    "2. `readline` - přečte pouze první řádek jako string\n",
    "3. `readlines` - přečte celý soubor jako list (co řádek, to údaj)"
   ]
  },
  {
   "cell_type": "markdown",
   "metadata": {},
   "source": [
    "#### Ukázka různých variant "
   ]
  },
  {
   "cell_type": "code",
   "execution_count": null,
   "metadata": {
    "scrolled": true
   },
   "outputs": [],
   "source": [
    "print(existujici_soub.read())\n",
    "print(existujici_soub.read())"
   ]
  },
  {
   "cell_type": "markdown",
   "metadata": {},
   "source": [
    "Pokud jednou přečteme obsah textového souboru, pomyslný kurzor se přesune na konec souboru. Tzn. že pokud jej budu chtít znovu přečíst pomocí metod, získám prázdný výstup.<br />\n",
    "\n",
    "Pro opětovné přečtění textu je nutné vrátit pomyslný kurzor na začátek textu, abychom jej opět přečetli pomocí vhodné metody. Kurzor můžeme vrátit pomocí metody `seek` s argumentem `0` (tedy začátek):"
   ]
  },
  {
   "cell_type": "code",
   "execution_count": null,
   "metadata": {
    "scrolled": false
   },
   "outputs": [],
   "source": [
    "print(existujici_soub.read())\n",
    "existujici_soub.seek(0)  # (0, 2) -> presun na konec souboru\n",
    "print(existujici_soub.read())"
   ]
  },
  {
   "cell_type": "code",
   "execution_count": null,
   "metadata": {},
   "outputs": [],
   "source": [
    "existujici_soub.close()"
   ]
  },
  {
   "cell_type": "markdown",
   "metadata": {},
   "source": [
    "#### Současně zapisovat & číst\n",
    "Vhodnou hodnotou argumentu mode můžeme specifikovat režim, kdy můžeme jak zapisovat, tak číst:"
   ]
  },
  {
   "cell_type": "code",
   "execution_count": null,
   "metadata": {},
   "outputs": [],
   "source": [
    "existujici_soub = open(\"pokusny_soubor.txt\", \"r+\")"
   ]
  },
  {
   "cell_type": "markdown",
   "metadata": {},
   "source": [
    "Přečteme obsah souboru:"
   ]
  },
  {
   "cell_type": "code",
   "execution_count": null,
   "metadata": {},
   "outputs": [],
   "source": [
    "print(existujici_soub.read())"
   ]
  },
  {
   "cell_type": "markdown",
   "metadata": {},
   "source": [
    "Doplníme údaje:"
   ]
  },
  {
   "cell_type": "code",
   "execution_count": null,
   "metadata": {},
   "outputs": [],
   "source": [
    "existujici_soub.write(\"\\nDalsi radek! :O\")"
   ]
  },
  {
   "cell_type": "code",
   "execution_count": null,
   "metadata": {},
   "outputs": [],
   "source": [
    "existujici_soub.close()"
   ]
  },
  {
   "cell_type": "markdown",
   "metadata": {},
   "source": [
    "Nyní můžeme zkontrolovat výstup pomocí prohlížeče."
   ]
  },
  {
   "cell_type": "markdown",
   "metadata": {},
   "source": [
    "#### Opatrně na opačné pořadí\n",
    "Režim _write_ ale standartně přepisuje původní text. Jelikož se kurzor nastaví na počátek souboru, dojde k nahrazení původního textu částí, příp. zcela novým textem:"
   ]
  },
  {
   "cell_type": "code",
   "execution_count": null,
   "metadata": {},
   "outputs": [],
   "source": [
    "existujici_soub = open(\"pokusny_soubor.txt\", \"r+\")"
   ]
  },
  {
   "cell_type": "code",
   "execution_count": null,
   "metadata": {},
   "outputs": [],
   "source": [
    "existujici_soub.write(\"\\nDalsi radek! :O\")"
   ]
  },
  {
   "cell_type": "code",
   "execution_count": null,
   "metadata": {},
   "outputs": [],
   "source": [
    "existujici_soub.close()"
   ]
  },
  {
   "cell_type": "markdown",
   "metadata": {},
   "source": [
    "#### Režim \"a\"\n",
    "Pomocí režimu append jsme schopni nastavit kurzor při otevření na závěr souboru a tím informace nepřepisovat, ale doplňovat:"
   ]
  },
  {
   "cell_type": "code",
   "execution_count": 1,
   "metadata": {},
   "outputs": [],
   "source": [
    "existujici_soub = open(\"pokusny_soubor.txt\", \"a\")"
   ]
  },
  {
   "cell_type": "code",
   "execution_count": 2,
   "metadata": {},
   "outputs": [
    {
     "data": {
      "text/plain": [
       "20"
      ]
     },
     "execution_count": 2,
     "metadata": {},
     "output_type": "execute_result"
    }
   ],
   "source": [
    "existujici_soub.write(\"\\nDalsi radek! :O 1/2\")"
   ]
  },
  {
   "cell_type": "code",
   "execution_count": 3,
   "metadata": {},
   "outputs": [
    {
     "data": {
      "text/plain": [
       "20"
      ]
     },
     "execution_count": 3,
     "metadata": {},
     "output_type": "execute_result"
    }
   ],
   "source": [
    "existujici_soub.write(\"\\nDalsi radek! :O 2/2\")"
   ]
  },
  {
   "cell_type": "code",
   "execution_count": 4,
   "metadata": {},
   "outputs": [],
   "source": [
    "existujici_soub.close()"
   ]
  },
  {
   "cell_type": "markdown",
   "metadata": {},
   "source": [
    "### Kontextový manažer\n",
    "Pokud nechcete hlídat zavírání jednotlových souborů, můžeme použít syntaxi s `with` (tedy kontextový manažer).<br /> \n",
    "\n",
    "Jeho použití, jak si ukážeme nesouvisí pouze s textovými soubory, ale pří práci s nimi je to skvelý pomocník."
   ]
  },
  {
   "cell_type": "code",
   "execution_count": 6,
   "metadata": {
    "scrolled": true
   },
   "outputs": [
    {
     "name": "stdout",
     "output_type": "stream",
     "text": [
      "['\\n', 'Dalsi radek! :Otous\\n', 'Rad ctu, hraji na klavir\\n', 'A co ty?:)Dalsi radek! :O\\n', 'Dalsi radek! :O 1/2\\n', 'Dalsi radek! :O 2/2']\n"
     ]
    }
   ],
   "source": [
    "with open(\"pokusny_soubor.txt\", \"r\") as txt_soub:\n",
    "    print(txt_soub.readlines())"
   ]
  },
  {
   "cell_type": "markdown",
   "metadata": {},
   "source": [
    "### Escape chars\n",
    "V podstatě jde o speciální použití lomítka uvnitř stringu. Tohoto principu je využívano ve všech jazycích, které podporují datový typ string.<br />\n",
    "\n",
    "Jde tedy o několik znaků, které mají v kombinaci s lomítkem speciální význam. Kombinace dvojitých a jednoduchých uvozovek už jsme si ukázali dříve:"
   ]
  },
  {
   "cell_type": "code",
   "execution_count": 11,
   "metadata": {},
   "outputs": [
    {
     "name": "stdout",
     "output_type": "stream",
     "text": [
      "it's funny\n"
     ]
    }
   ],
   "source": [
    "print(\"it's funny\")"
   ]
  },
  {
   "cell_type": "markdown",
   "metadata": {},
   "source": [
    "Pokud ale potřebujeme opětovně použít dvojité uvozovky, můžeme využít zpětného lomítka:"
   ]
  },
  {
   "cell_type": "code",
   "execution_count": null,
   "metadata": {
    "scrolled": false
   },
   "outputs": [],
   "source": [
    "print(\"it\\'s \"kind of\" funny\")"
   ]
  },
  {
   "cell_type": "markdown",
   "metadata": {},
   "source": [
    "Obecně můžeme říct, že cokoliv přijde po znaku lomítka, předpokládejme jako string.<br />\n",
    "\n",
    "Dále existuje množství variant, které mají speciální funkci. Jako esc.char. pro nový řádek, nebo tabulátor:"
   ]
  },
  {
   "cell_type": "code",
   "execution_count": 10,
   "metadata": {},
   "outputs": [
    {
     "name": "stdout",
     "output_type": "stream",
     "text": [
      "\n",
      "it's \"kind of\" \t sunny\n"
     ]
    }
   ],
   "source": [
    "print(\"\\nit\\'s \\\"kind of\\\" \\t sunny\")"
   ]
  },
  {
   "cell_type": "markdown",
   "metadata": {},
   "source": [
    "### String formatting\n",
    "V kazdem kole chceme vypsat jmeno hrac, zbyvajici pocet pokusu a hadane slovo.\n",
    "\n",
    "#### Formatovani retezcu\n",
    "1. **Formatovaci vyraz**  (%-formatting)\n",
    "2. **Formatovaci metoda** (str.format())\n",
    "3. **f-string**           (f\"\")\n",
    "\n",
    "#### Formatovaci vyraz\n",
    "Je to prapuvodni zpusob formatovani v Pythonu uz od sameho zacatku:\n",
    "```python\n",
    "JMENO = \"Lukas\"; VEK = 27\n",
    "\"Ahoj, jmenuji se %s a je mi %d let\" % (JMENO, VEK)\n",
    "```\n",
    "**Pozor!**, dnes se jiz oficialne nedoporuje, jelikoz casto selhava, nespravne zobrazuje ntice nebo slovniky. Vypisovani neni prilis prakticke.\n",
    "\n",
    "#### Formatovaci metoda\n",
    "Od verze Pythonu 2.6 mame k dispozici dalsi zpusob pro formatovani:\n",
    "```python\n",
    "JMENO = \"Eliska\"; VEK = 26\n",
    "\"Ahoj, jmenuji se {} a je mi {} let\" .format(JMENO, VEK)\n",
    "```\n",
    "**Pozor!**, pouziti je porad pomerne upovidane napr. pri zapisu vice promennych. Ma siroke moznosti formatovani ale ne vzdy pouzitelne.\n",
    "\n",
    "#### 🔝 Formatted string (f-string)\n",
    "Od verze Pythonu 3.6 mame k dispozici jeste jednu metodu  pro formatovani:\n",
    "```python\n",
    "JMENO = \"Lucie\"; VEK = 28\n",
    "f\"Ahoj, jmenuji se {JMENO} a je mi {VEK} let\"\n",
    "```\n",
    "Syntaxe je strucna presto citelna. Zvlada ruzne platne operace v Pythonu vcetne volani funkci. Opatrne pri psani uvozovek."
   ]
  },
  {
   "cell_type": "markdown",
   "metadata": {},
   "source": [
    "#### cli\n",
    "Orientace mezi umistenim na disku/gui. Vytvorim txt soubor.\n",
    "\n",
    "#### Funce open()\n",
    "Otevreme prazdny soubor\n",
    "\n",
    "#### Metoda read\n",
    "Chci si precist obsah souboru\n",
    "\n",
    "#### Prepiseme obsah prazdneho souboru\n",
    "Tentokrat spustime nas skript a precteme skutecny obsah souboru\n",
    "\n",
    "#### Precteme vicekrat?\n",
    "Zkusim vypsat n-krat pomoci funkce `print` obsah txt souboru\n",
    "\n",
    "#### Pomyslny kurzor\n",
    "Presune se totiz na konec souboru a tim padem nic nenacte\n",
    "\n",
    "#### Metoda seek(0)\n",
    "Presuneme \"kurzor\" na zacatek naseho souboru\n",
    "\n",
    "#### Metoda readline\n",
    "Precteme pouze prvni radek\n",
    "\n",
    "#### Metoda readlines\n",
    "Precteme cely soubor. Ulozime jej jako list.\n",
    "\n",
    "#### Metoda close\n",
    "Po skonceni prace interpretu s textovym souborem zavreme inicializovany objekt\n",
    "\n",
    "#### Kontextovy manazer\n",
    "Efektivnejsi zpusob pro praci s oteviranim souboru\n",
    "\n",
    "#### Mode read\n",
    "Pomoci defaultniho argumentu `mode` precteme obsah souboru\n",
    "\n",
    "#### Mode write\n",
    "Pomoci rezimu `write` zapisujeme do souboru\n",
    "\n",
    "#### Cist + psat?\n",
    "Oboji muzeme provadet take, pomoci kombinace `r+`\n",
    "\n",
    "#### Prepisovani? -> mode=append\n",
    "Problem, protoze po inicializaci nastavim kurzor na zacatek\n",
    "\n",
    "#### Absolutni/realtivni cesta\n",
    "Potrebujeme najit soubor mimo nasi pracovni slozku\n",
    "\n",
    "#### pathlin module"
   ]
  },
  {
   "cell_type": "markdown",
   "metadata": {},
   "source": [
    "---\n",
    "<details>\n",
    "  <summary>📖 Textove soubory</summary>\n",
    "\n",
    "<details>\n",
    "  <summary>📂 Vytvorime novy soubor</summary>\n",
    "  \n",
    "  #### ⌨ Zaciname\n",
    "  ```python\n",
    "  #!/usr/bin/python3\n",
    "  \"\"\"Lekce #8 - Uvod do programovani, obesenec\"\"\"\n",
    "\n",
    "  def main() -> None:\n",
    "      \"\"\"Hlavni ridici funkce nasi hry\"\"\"\n",
    "      pass\n",
    "  ```\n",
    "---\n",
    "</details>\n",
    "\n",
    "<details>\n",
    "  <summary>⚒ Jak pracovat s textovymi soubory</summary>\n",
    "\n",
    "  #### ☝ K zapamatovani\n",
    "  1. Nejprve pouzijeme funkci `open`, abychom ulozili cely soubor\n",
    "  ```python\n",
    "  soubor_se_slovy = open(jmeno_souboru, mode=\"r\", encoding=None)\n",
    "  ```\n",
    "\n",
    "  2. Standartne potrebujeme vyplnit pouze prvni dva argumenty:\n",
    "    - `jmeno_souboru` - i s priponou\n",
    "    - `mode` - rezim, jak chceme soubor zpracovat ( **r**ead, **w**rite, **a**ppend)\n",
    "\n",
    "  3. Pro cteni obsahu chceme zvolat `mode=\"r\"` nebo jen `r`\n",
    "  4. Pro nacteni obsahu pouzijeme jednu z metod:\n",
    "    - `read` - nacteme cely obsah jako `str`\n",
    "    - `readline` - nacteme pouze prvni radek\n",
    "    - `readlines` - nacteme jako `list`, obsah rozdelime pomoci `\\n`\n",
    "  ```python\n",
    "  obsazeny_text = soubor_se_slovy.read()\n",
    "  ```\n",
    "\n",
    "  5. Nakonec musime otevreny soubor zavrit pomoci metody `close`\n",
    "  ```python\n",
    "  soubor_se_slovy = open(jmeno_souboru, mode=\"r\", encoding=\"utf8\")\n",
    "  obsazeny_text = soubor_se_slovy.read()\n",
    "  soubor_se_slovy.close()\n",
    "  ```\n",
    "---\n",
    "</details>\n",
    "\n",
    "<details>\n",
    "  <summary>⚙ Dalsi varianta</summary>\n",
    "\n",
    "  #### 📀 Kontextovy manazer\n",
    "  ```python\n",
    "  with open(jmeno_souboru, mode=\"r\") as txt_file:\n",
    "      obsazeny_text = txt_file.read()\n",
    "  ```\n",
    "\n",
    "  #### 💾 Vlozime do funkce\n",
    "  1. Vytvor funkci `nacitani_slov`\n",
    "  2. Parametrem bude `jmeno_souboru`\n",
    "  3. Chceme vracet `set` slov\n",
    "  ```python\n",
    "  def nacitani_slov(jmeno_souboru: str) -> set:\n",
    "      with open(jmeno_souboru, mode=\"r\") as txt_soubor:\n",
    "          obsah = txt_soubor.readlines()\n",
    "      return set(obsah)\n",
    "  ```\n",
    "  **Pozor!**, z funkce ziskame cely `set`\n",
    "\n",
    "</details>\n",
    "\n",
    "</details>\n",
    "\n",
    "---\n",
    "<details>\n",
    "  <summary>❓ Modul random</summary>\n",
    "\n",
    "<details>\n",
    "  <summary>🔣 (Pseudo)nahodny vyber</summary>\n",
    "\n",
    "  #### 📜 Modul random\n",
    "  Standartni knihovna obsahuje modul `random`:\n",
    "  ```python\n",
    "  def vyber_nahodne_slovo(jmeno_souboru: str) -> str:\n",
    "      from random import sample\n",
    "      with open(jmeno_souboru, mode=\"r\") as txt_soubor:\n",
    "          obsah = txt_soubor.readlines()\n",
    "          nahodne_slovo = sample(set(obsah), 1)\n",
    "          ostripovane_sl = nahodne_slovo.pop().strip()\n",
    "      return ostripovane_sl\n",
    "  ```\n",
    "  **Pozor!**, zapis muzeme refaktorovat\n",
    "\n",
    "---\n",
    "</details>\n",
    "\n",
    "<details>\n",
    "  <summary>🌚 Skryjeme slovo & vypocitame zivoty</summary>\n",
    "\n",
    "  #### ✍ Jak to provest\n",
    "  1. Vytvorime funkci `schovej_slovo`\n",
    "  2. Popiseme jeji ucel ( _docstring_)\n",
    "  3. Funkce ma jeden parametr `slovo`\n",
    "  4. Funkce vraci retezec, kdy v tajnem slove nahradim jednotliva pismena `_`\n",
    "  5. Funkce vrati cele cislo jako pocet zivotu, ktere hrac ziska\n",
    "  6. Vyslednou hodnotu zaokrouhlime na cela cisla `round`\n",
    "  ```python\n",
    "  def schovej_slovo(slovo: str) -> list:\n",
    "      \"\"\"Nahradime pismena symbolem `_` a soucasne vypocita pocet pokusu\"\"\"\n",
    "      return [\"_\"] * len(slovo), round(1.3 * len(slovo))\n",
    "  ```\n",
    "\n",
    "  #### 📩 Ulozime jmeno hrace\n",
    "  ```python\n",
    "  def pridej_hrace() -> str:\n",
    "      return input(\"ZADEJTE JMENO HRACE: \")\n",
    "  ```\n",
    "---\n",
    "</details>\n",
    "\n",
    "<details>\n",
    "  <summary>✍ Dosavadni zapis</summary>\n",
    "\n",
    "  #### 📜 Reseni \n",
    "  ```python\n",
    "  #!/usr/bin/python\n",
    "  \"\"\"Lekce #8 - Uvod do programovani, obesenec\"\"\"\n",
    "  from random import sample\n",
    "\n",
    "\n",
    "  def main() -> None:\n",
    "      \"\"\"Hlavni ridici funkce nasi hry\"\"\"\n",
    "      pass\n",
    "\n",
    "\n",
    "  def vyber_nahodne_slovo(jmeno_souboru: str) -> str:\n",
    "      with open(jmeno_souboru, mode=\"r\") as txt_soubor:\n",
    "          return sample(set(txt_soubor.readlines()), 1).strip()\n",
    "\n",
    "\n",
    "  def schovej_slovo(slovo: str) -> list:\n",
    "      \"\"\"Nahradime pismena symbolem `_` a soucasne vypocita pocet pokusu\"\"\"\n",
    "      return [\"_\"] * len(slovo), round(1.3 * len(slovo))\n",
    "\n",
    "\n",
    "  def pridej_hrace() -> str:\n",
    "      return input(\"ZADEJTE JMENO HRACE: \")\n",
    "  ```\n",
    "\n",
    "</details>\n",
    "\n",
    "</details>\n",
    "\n",
    "---\n",
    "\n",
    "<details>\n",
    "  <summary>🗜 Formatovani retezcu</summary>\n",
    "\n",
    "<details>\n",
    "  <summary>📉 Stav hry</summary>\n",
    "\n",
    "\n",
    "</details>\n",
    "\n",
    "<details>\n",
    "  <summary>🔧 Aplikace ve funkci</summary>\n",
    "\n",
    "  #### ▶ Zobraz stav hry\n",
    "  1. Funkce `vypis_stav_hry`\n",
    "  2. Parametry `hrac`, `tajenka` a `zivoty`\n",
    "  3. Vytvorime zpravu, zarovname oddelovacem a `print`\n",
    "  ```python\n",
    "  def vypis_stav_hry(hrac: str, tajenka: str, zivoty: int) -> None:\n",
    "      zprava = f\"|HRAC: {hrac} | STAV: {stav} | ZBYVA TAHU: {zbyva}|\"\n",
    "      oddelovac = len(zprava) * \"-\"\n",
    "      print(oddelovac, zprava, oddelovac, sep=\"\\n\")\n",
    "  ```\n",
    "  #### 🗣 Hrac hada pismeno\n",
    "  ```python\n",
    "  def vyber_pismeno() -> str:\n",
    "      return input(\"HADEJ PISMENO: \")\n",
    "  ```\n",
    "</details>\n",
    "\n",
    "</details>\n",
    "\n",
    "---\n",
    "<details>\n",
    "  <summary>♻ Vyber cyklu</summary>\n",
    "\n",
    "<details>\n",
    "  <summary>✅ Spravny odhad</summary>\n",
    "\n",
    "  #### ⌨ Jak na to \n",
    "  1. Funkce `overeni_vyberu`\n",
    "  2. Parametry `hadane_pismeno`, `tajenka` a `tajne_slovo`\n",
    "  3. Pokud se ve slove hadane pismeno nachazi, nahrad podtrzitko\n",
    "  ```python\n",
    "  def overeni_vyberu(hadane_pismeno: str, tajenka: list, tajne_slovo: str) -> None:\n",
    "      for index, pismeno in enumerate(tajne_slovo):\n",
    "          if pismeno == hadane_pismeno:\n",
    "              tajenka[index] = pismeno\n",
    "  ```\n",
    "---\n",
    "</details>\n",
    "\n",
    "<details>\n",
    "  <summary>🔚Podminka pro ukonceni</summary>\n",
    "\n",
    "  #### ✍ Jak na to\n",
    "  1. Pokud `tajne_slovo` neobsahuje `_`, vitezstvi\n",
    "  2. Pokud `tajne_slovo` obsahuje `_` a zbyva mu jeden pokus, prohra\n",
    "  ```python\n",
    "  def konec_kola(tajne_slovo: str, pokusy: int) -> None:\n",
    "      if \"_\" not in tajne_slovo:\n",
    "          print(\"VYHRALS!\")\n",
    "          quit()\n",
    "      elif \"_\" in tajne_slovo and pokusy == 1:\n",
    "          print(\"PROHRALS!\")\n",
    "          quit()\n",
    "  ```\n",
    "\n",
    "</details>\n",
    "\n",
    "---\n",
    "<details>\n",
    "  <summary>🛡 oplnime hlavni funkci</summary>\n",
    "\n",
    "  #### 🔍 Hlavni funkce\n",
    "  ```python\n",
    "  def main() -> None:\n",
    "      \"\"\"Hlavni ridici funkce nasi hry\"\"\"\n",
    "      tajne_slovo = vyber_nahodne_slovo(\"slova.txt\")    # je ve stejnem adresari\n",
    "      prezdivka_hrace = pridej_hrace()\n",
    "      tajenka, pokusy = schovej_slovo(tajne_slovo)      # udaje pro hrace\n",
    "\n",
    "      while pokusy > 0:\n",
    "          vypis_stav_hry(prezdivka_hrace, tajenka, pokusy)\n",
    "          overeni_vyberu(vyber_pismeno(), tajenka, tajne_slovo)\n",
    "          konec_kola(tajenka, pokusy)\n",
    "          pokusy -= 1\n",
    "\n",
    "  ```\n",
    "\n",
    "</details>\n",
    "\n",
    "</details>\n",
    "\n",
    "---\n",
    "\n",
    "<details>\n",
    "  <summary>🚧 Procvicovani na doma</summary>\n",
    "\n",
    "<details>\n",
    "  <summary>🚧 Textovy soubor v interpretu</summary>\n",
    "\n",
    "  #### 📚 Priklad\n",
    "\n",
    "  Kurzor muzeme posunout pomoci metody `seek()`, kdy do kulate zavorky nastavime\n",
    "  pozici, na ktere jej chceme nastavit:\n",
    "  1. __seek(0)__ - pro zacatek souboru\n",
    "  2. __seek(0, 2)__ - pro konec souboru\n",
    "\n",
    "  Pokud potrebuji zjistit, kde se v souboru aktualne nachazim, pouziju metodu\n",
    "  `tell()`.\n",
    "\n",
    "---\n",
    "</details>\n",
    "\n",
    "<details>\n",
    "  <summary>🚧 Rezimy funkce open()</summary>\n",
    "\n",
    "  #### ⌨ Pomucka\n",
    "  1. `r` - defaultne, otevri pro cteni\n",
    "  2. `w` - otevri pro zapis (zapisuje od zacatku -> muze prepsat udaje)\n",
    "  3. `x` - otevri pouze pro vytvoreni souboru (pokud existuje, selze)\n",
    "  4. `a` - otevri pro zapis (zapisuje na konec -> pridava k stavajicim udajum)\n",
    "  5. `b` - otevri v binarnim rezimu\n",
    "  6. `+` - otevri pro aktualizovani (cteni i zapis)\n",
    "\n",
    "</details>\n",
    "\n",
    "</details>\n",
    "\n",
    "---\n",
    "➡ [pokracovat na devatou lekci](https://github.com/Bralor/python-academy/tree/lekce09)\n",
    "\n"
   ]
  },
  {
   "cell_type": "code",
   "execution_count": null,
   "metadata": {},
   "outputs": [],
   "source": []
  }
 ],
 "metadata": {
  "kernelspec": {
   "display_name": "Python 3",
   "language": "python",
   "name": "python3"
  },
  "language_info": {
   "codemirror_mode": {
    "name": "ipython",
    "version": 3
   },
   "file_extension": ".py",
   "mimetype": "text/x-python",
   "name": "python",
   "nbconvert_exporter": "python",
   "pygments_lexer": "ipython3",
   "version": "3.8.5"
  }
 },
 "nbformat": 4,
 "nbformat_minor": 4
}
