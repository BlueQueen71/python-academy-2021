{
 "cells": [
  {
   "cell_type": "markdown",
   "metadata": {},
   "source": [
    "## Engeto, Python akademie 2021, lekce#09"
   ]
  },
  {
   "cell_type": "markdown",
   "metadata": {},
   "source": [
    "<img src=https://www.codeitbro.com/wp-content/uploads/2020/07/python-meme-12-does-your-python-bite.jpg width=\"500\">\n",
    "\n",
    "###  Obsah lekce\n",
    "\n",
    "1. Užitečné odkazy\n",
    "2. Opakování z minulé lekce\n",
    "3. Práce s textovými soubory\n",
    "4. Kontextový manažer\n",
    "5. Escape characters\n",
    "6. Formátování řetězců\n",
    "7. Absolutní & relativní cesta\n",
    "8. Spouštění nebo importování souborů"
   ]
  },
  {
   "cell_type": "markdown",
   "metadata": {},
   "source": [
    "---\n",
    "### Užitečné odkazy:\n",
    "- [Oficiální dokumentace pro instalaci **manažeru knihoven pip** (pypi.org)](https://pypi.org/project/pip/)\n",
    "- [Oficiální dokumentace pro **Pycharm importing** (jetbrains.com)](https://www.jetbrains.com/help/pycharm/installing-uninstalling-and-upgrading-packages.html)\n",
    "- [Neoficiální dokumentace **\\_\\_name == '\\_\\_main\\_\\_'**](https://www.geeksforgeeks.org/what-does-the-if-__name__-__main__-do/)\n",
    "- [Neoficiální dokumentace **escape characters** (mathplotlib.org)](https://linuxconfig.org/list-of-python-escape-sequence-characters-with-examples)\n",
    "- [Neoficiální dokumentace **args** & **kwargs** (book.pythontips.com)](https://book.pythontips.com/en/latest/args_and_kwargs.html)\n",
    "---\n"
   ]
  },
  {
   "cell_type": "markdown",
   "metadata": {},
   "source": [
    "### Opakování\n",
    "Vytvořte funkci, která se vypíše na výstupu správně naformátovanou kalkulačku (jméno funkce `zobraz_kalk`). Tato funkce vždy potřebuje argument `delka_radku`, podle kterého nachystá požadovanou délku řádku. Dále může obsahovat různé množství pozičních argumentů, které chceme vykreslit.\n",
    "\n",
    "Délka řádku `4`:\n",
    "```bash\n",
    "+---+---+---+---+\n",
    "| 1 | 2 | 3 | 4 |\n",
    "+---+---+---+---+\n",
    "| 5 | 6 | 7 | 8 |\n",
    "+---+---+---+---+\n",
    "| 9 | 0 | + | - |\n",
    "+---+---+---+---+\n",
    "    | * | / |    \n",
    "    +---+---+    \n",
    "```\n",
    "Délka řádku `3`:\n",
    "```bash\n",
    "+---+---+---+\n",
    "| 1 | 2 | 3 |\n",
    "+---+---+---+\n",
    "| 4 | 5 | 6 |\n",
    "+---+---+---+\n",
    "| 7 | 8 | 9 |\n",
    "+---+---+---+\n",
    "| 0 | + | - |\n",
    "+---+---+---+\n",
    "  | * | / |  \n",
    "  +---+---+  \n",
    "```"
   ]
  },
  {
   "cell_type": "code",
   "execution_count": null,
   "metadata": {},
   "outputs": [],
   "source": [
    "# TODO"
   ]
  },
  {
   "cell_type": "code",
   "execution_count": null,
   "metadata": {},
   "outputs": [],
   "source": [
    "vykresli_kalk(\"1\", \"2\", \"3\", \"4\", \"5\", \"6\", \"7\", \"8\", \"9\", \"0\", \"+\", \"-\", \"*\", \"/\", delka_radku=4)"
   ]
  },
  {
   "cell_type": "markdown",
   "metadata": {},
   "source": [
    "---\n",
    "### Práce s textovými soubory (file I/O)\n",
    "Chceme tvořit univerzálnější programy, které umí delegovat práci s různymi soubory na interpret Pythonu. Třeba otevírat a zavírat různé typy souborů. Později také práce s souboru tabulkového typu, json a požadavky na vzdálený server.<br />\n",
    "\n",
    "V této části se zaměříme na textové soubory. Jak je spolehlivě najít a přečíst (pokud již existují), případně jak je vytvořit a uložit (pokud ještě neexistují).\n",
    "\n",
    "#### Ukázka\n",
    "```bash\n",
    "$ python3 mega_backup.py <email>\n",
    "```\n",
    "<br />\n",
    "\n",
    "#### Nový textový soubor\n",
    "Abychom mohli vytvočit nový textový soubor, budeme muset nejprve napsat instrukce pro interpret Pythonu, aby jej vytvořil. V pracovním adresáři vytvoříme nový soubor pro Python (příp. `.py`):"
   ]
  },
  {
   "cell_type": "markdown",
   "metadata": {},
   "source": [
    "```bash\n",
    "$ touch uvod_do_io.py\n",
    "```"
   ]
  },
  {
   "cell_type": "markdown",
   "metadata": {},
   "source": [
    "Do tohoto souboru pak zapíšeme vámi předchystaný text (nějáký libovolný string):"
   ]
  },
  {
   "cell_type": "code",
   "execution_count": null,
   "metadata": {},
   "outputs": [],
   "source": [
    "TEXT = \"Ahoj, ja jsem Matous\\nRad ctu, hraji na klavir\\nA co ty?:)\""
   ]
  },
  {
   "cell_type": "markdown",
   "metadata": {},
   "source": [
    "Všimněte si speciálních znaků `\\n`, které jsou uvnitř proměnné `TEXT`, jejich účelem je oddělení textu na nový řádek.<br /> \n",
    "\n",
    "Proměnnou `TEXT` chceme zapsat jako skutečný text do nového souboru, který pojmenujeme `pokusny_soubor.txt`:"
   ]
  },
  {
   "cell_type": "code",
   "execution_count": null,
   "metadata": {},
   "outputs": [],
   "source": [
    "# TODO"
   ]
  },
  {
   "cell_type": "markdown",
   "metadata": {},
   "source": [
    "Z nějakého důvodu nám program vrátil chybu `FileNotFoundError`. Nejprve nastudujeme funkci `open`:\n",
    "```bash\n",
    ">>> help(open)  # vypis napovedy\n",
    "```"
   ]
  },
  {
   "cell_type": "code",
   "execution_count": null,
   "metadata": {
    "scrolled": false
   },
   "outputs": [],
   "source": [
    "# TODO"
   ]
  },
  {
   "cell_type": "markdown",
   "metadata": {},
   "source": [
    "Defaultní nastavení funkce `open` soubor otevírá v režimu čtení. Proto je potřeba režim změnit, pokud našim účelem není čtění, ale zápis.\n",
    "Nastavíme proto nepovinný argument `mode=\"w\"`, příp. přímo `\"w\"`:"
   ]
  },
  {
   "cell_type": "code",
   "execution_count": null,
   "metadata": {},
   "outputs": [],
   "source": [
    "# TODO"
   ]
  },
  {
   "cell_type": "markdown",
   "metadata": {},
   "source": [
    "Výstup nám vypíše číslo reprezentující počet zapsaných znaků a vytvoří soubor `\"pokusny_soubor.txt\"`.<br />\n",
    "\n",
    "Nicméně je potřeba dávat si pozor. Soubor je nyní vytvořený, ale současně jej mám pořád inicializovaný a otevřený v paměti počítače. Než jej ručně otevřu, musím objekt v Pythonu uzavřít:"
   ]
  },
  {
   "cell_type": "code",
   "execution_count": null,
   "metadata": {},
   "outputs": [],
   "source": [
    "novy_soubor.close()"
   ]
  },
  {
   "cell_type": "markdown",
   "metadata": {},
   "source": [
    "<br />\n",
    "\n",
    "#### Čtení existujícího souboru\n",
    "Chceme se dnes však naučit zapisovat a číst textové soubory pomocí **Pythonu**, ne pomocí **gui**.<br />\n",
    "\n",
    "V první části jsme zjistili, že defaultní nastavení funkce `open` má existující soubor přečíst:"
   ]
  },
  {
   "cell_type": "code",
   "execution_count": null,
   "metadata": {},
   "outputs": [],
   "source": [
    "# TODO"
   ]
  },
  {
   "cell_type": "code",
   "execution_count": null,
   "metadata": {},
   "outputs": [],
   "source": [
    "print(existujici_soub)"
   ]
  },
  {
   "cell_type": "markdown",
   "metadata": {},
   "source": [
    "Samotná funkce `print` nám nyní vypíše detaily týkající se objektu, který vytvoří interpret Pythonu.\n",
    "\n",
    "Pro přečtení obsahu musíme použít vhodnou metodu:"
   ]
  },
  {
   "cell_type": "code",
   "execution_count": null,
   "metadata": {
    "scrolled": true
   },
   "outputs": [],
   "source": [
    "# TODO"
   ]
  },
  {
   "cell_type": "markdown",
   "metadata": {},
   "source": [
    "Metody pro čtění obsahu **TextIOWrapper** objektu:\n",
    "1. `read` - přečte celý soubor jako jeden string\n",
    "2. `readline` - přečte pouze první řádek jako string\n",
    "3. `readlines` - přečte celý soubor jako list (co řádek, to údaj)\n",
    "\n",
    "<br />\n",
    "\n",
    "#### Ukázka různých variant "
   ]
  },
  {
   "cell_type": "code",
   "execution_count": null,
   "metadata": {
    "scrolled": true
   },
   "outputs": [],
   "source": [
    "print(existujici_soub.read())\n",
    "print(existujici_soub.read())"
   ]
  },
  {
   "cell_type": "markdown",
   "metadata": {},
   "source": [
    "Pokud jednou přečteme obsah textového souboru, pomyslný kurzor se přesune na konec souboru. Tzn. že pokud jej budu chtít znovu přečíst pomocí metod, získám prázdný výstup.<br />\n",
    "\n",
    "Pro opětovné přečtění textu je nutné vrátit pomyslný kurzor na začátek textu, abychom jej opět přečetli pomocí vhodné metody. Kurzor můžeme vrátit pomocí metody `seek` s argumentem `0` (tedy začátek):"
   ]
  },
  {
   "cell_type": "code",
   "execution_count": null,
   "metadata": {
    "scrolled": false
   },
   "outputs": [],
   "source": [
    "print(existujici_soub.read())\n",
    "existujici_soub.seek(0)  # (0, 2) -> presun na konec souboru\n",
    "print(existujici_soub.read())"
   ]
  },
  {
   "cell_type": "code",
   "execution_count": null,
   "metadata": {},
   "outputs": [],
   "source": [
    "existujici_soub.close()"
   ]
  },
  {
   "cell_type": "markdown",
   "metadata": {},
   "source": [
    "<br />\n",
    "\n",
    "#### Současně zapisovat & číst\n",
    "Vhodnou hodnotou argumentu mode můžeme specifikovat režim, kdy můžeme jak zapisovat, tak číst:"
   ]
  },
  {
   "cell_type": "code",
   "execution_count": null,
   "metadata": {},
   "outputs": [],
   "source": [
    "# TODO"
   ]
  },
  {
   "cell_type": "markdown",
   "metadata": {},
   "source": [
    "Přečteme obsah souboru:"
   ]
  },
  {
   "cell_type": "code",
   "execution_count": null,
   "metadata": {},
   "outputs": [],
   "source": [
    "# TODO"
   ]
  },
  {
   "cell_type": "markdown",
   "metadata": {},
   "source": [
    "Doplníme údaje:"
   ]
  },
  {
   "cell_type": "code",
   "execution_count": null,
   "metadata": {},
   "outputs": [],
   "source": [
    "existujici_soub.write(\"\\nDalsi radek! :O\")"
   ]
  },
  {
   "cell_type": "code",
   "execution_count": null,
   "metadata": {},
   "outputs": [],
   "source": [
    "existujici_soub.close()"
   ]
  },
  {
   "cell_type": "markdown",
   "metadata": {},
   "source": [
    "Nyní můžeme zkontrolovat výstup pomocí prohlížeče."
   ]
  },
  {
   "cell_type": "markdown",
   "metadata": {},
   "source": [
    "<br />\n",
    "\n",
    "#### Opatrně na opačné pořadí\n",
    "Režim _write_ ale standartně přepisuje původní text. Jelikož se kurzor nastaví na počátek souboru, dojde k nahrazení původního textu částí, příp. zcela novým textem:"
   ]
  },
  {
   "cell_type": "code",
   "execution_count": null,
   "metadata": {},
   "outputs": [],
   "source": [
    "existujici_soub = open(\"pokusny_soubor.txt\", \"r+\")"
   ]
  },
  {
   "cell_type": "code",
   "execution_count": null,
   "metadata": {},
   "outputs": [],
   "source": [
    "existujici_soub.write(\"\\nDalsi radek! :O\")"
   ]
  },
  {
   "cell_type": "code",
   "execution_count": null,
   "metadata": {},
   "outputs": [],
   "source": [
    "existujici_soub.close()"
   ]
  },
  {
   "cell_type": "markdown",
   "metadata": {},
   "source": [
    "<br />\n",
    "\n",
    "#### Režim \"a\"ppend\n",
    "Pomocí režimu append jsme schopni nastavit kurzor při otevření na závěr souboru a tím informace nepřepisovat, ale doplňovat:"
   ]
  },
  {
   "cell_type": "code",
   "execution_count": null,
   "metadata": {},
   "outputs": [],
   "source": [
    "# TODO"
   ]
  },
  {
   "cell_type": "code",
   "execution_count": null,
   "metadata": {},
   "outputs": [],
   "source": [
    "existujici_soub.write(\"\\nDalsi radek! :O 1/2\")"
   ]
  },
  {
   "cell_type": "code",
   "execution_count": null,
   "metadata": {},
   "outputs": [],
   "source": [
    "existujici_soub.write(\"\\nDalsi radek! :O 2/2\")"
   ]
  },
  {
   "cell_type": "code",
   "execution_count": null,
   "metadata": {},
   "outputs": [],
   "source": [
    "existujici_soub.close()"
   ]
  },
  {
   "cell_type": "markdown",
   "metadata": {},
   "source": [
    "---\n",
    "<br />\n",
    "\n",
    "\n",
    "### Kontextový manažer\n",
    "Pokud nechcete hlídat zavírání jednotlových souborů, můžeme použít syntaxi s `with` (tedy kontextový manažer).<br /> \n",
    "\n",
    "Jeho použití, jak si ukážeme nesouvisí pouze s textovými soubory, ale pří práci s nimi je to skvelý pomocník."
   ]
  },
  {
   "cell_type": "code",
   "execution_count": null,
   "metadata": {
    "scrolled": true
   },
   "outputs": [],
   "source": [
    "# TODO"
   ]
  },
  {
   "cell_type": "markdown",
   "metadata": {},
   "source": [
    "---\n",
    "\n",
    "<br />\n",
    "\n",
    "### První část naší úlohy\n",
    "Chceme prakticky pouze načíst obsah souboru `vstupni_data.txt`. Budeme ale opatrnější a zkusíme náš zapis ochránit, kdyby soubor náhodou neexistoval."
   ]
  },
  {
   "cell_type": "code",
   "execution_count": null,
   "metadata": {},
   "outputs": [],
   "source": [
    "import os\n",
    "from pathlib import Path  # alternativa (slozitejsi ale vsestranejsi pouziti )\n",
    "# TODO"
   ]
  },
  {
   "cell_type": "markdown",
   "metadata": {},
   "source": [
    "Výstup doplním oznámením, pokud soubor nenajdeme. Doplníme dále aktuální umístění na disku a vhodně naformátujeme.\n",
    "\n",
    "---\n",
    "\n",
    "<br />"
   ]
  },
  {
   "cell_type": "markdown",
   "metadata": {},
   "source": [
    "### Escape characters\n",
    "V podstatě jde o speciální použití lomítka uvnitř stringu. Tohoto principu je využívano ve všech jazycích, které podporují datový typ string.<br />\n",
    "\n",
    "Jde tedy o několik znaků, které mají v kombinaci s lomítkem speciální význam. Kombinace dvojitých a jednoduchých uvozovek už jsme si ukázali dříve:"
   ]
  },
  {
   "cell_type": "code",
   "execution_count": null,
   "metadata": {},
   "outputs": [],
   "source": [
    "print(\"it's funny\")"
   ]
  },
  {
   "cell_type": "markdown",
   "metadata": {},
   "source": [
    "Pokud ale potřebujeme opětovně použít dvojité uvozovky, můžeme využít zpětného lomítka:"
   ]
  },
  {
   "cell_type": "code",
   "execution_count": null,
   "metadata": {
    "scrolled": false
   },
   "outputs": [],
   "source": [
    "print(\"it\\'s \"kind of\" funny\")"
   ]
  },
  {
   "cell_type": "markdown",
   "metadata": {},
   "source": [
    "Obecně můžeme říct, že cokoliv přijde po znaku lomítka, předpokládejme jako string.<br />\n",
    "\n",
    "Dále existuje množství variant, které mají speciální funkci. Jako esc.char. pro nový řádek, nebo tabulátor:"
   ]
  },
  {
   "cell_type": "code",
   "execution_count": null,
   "metadata": {},
   "outputs": [],
   "source": [
    "# TODO"
   ]
  },
  {
   "cell_type": "markdown",
   "metadata": {},
   "source": [
    "---\n",
    "\n",
    "<br />\n",
    "\n",
    "### Druhá část naší úlohy\n",
    "Nahradíme symbol hvězdičky uvozovkami"
   ]
  },
  {
   "cell_type": "code",
   "execution_count": null,
   "metadata": {},
   "outputs": [],
   "source": [
    "import os\n",
    "from pathlib import Path  # alternativa (slozitejsi ale vsestranejsi pouziti )\n",
    "\n",
    "# TODO"
   ]
  },
  {
   "cell_type": "markdown",
   "metadata": {},
   "source": [
    "---\n",
    "\n",
    "<br />\n",
    "\n",
    "### Formátování řetězců\n",
    "Jde o způsob, jakým efektnivně zapisovat klasický string ve spojením se jmény proměnných, doplňujícím upravováním a dalšími variantami, které se liší v každé variantě.<br />\n",
    "\n",
    "Povíme si více o těchto třech způsobech:\n",
    "1. **Formatovaci vyraz**  (%-formatting)\n",
    "2. **Formatovaci metoda** (str.format())\n",
    "3. **f-string**           (f\"\")\n",
    "\n",
    "#### Formátovací výraz\n",
    "Je to prapůvodní způosob formátování stringu v Pythonu už od uplného začátku:"
   ]
  },
  {
   "cell_type": "code",
   "execution_count": null,
   "metadata": {},
   "outputs": [],
   "source": [
    "JMENO = \"Lukas\"; VEK = 27\n",
    "\"Ahoj, jmenuji se %s a je mi %d let\" % (JMENO, VEK)"
   ]
  },
  {
   "cell_type": "markdown",
   "metadata": {},
   "source": [
    "**Pozor!** dnes se již oficiálně nedoporučuje, jelikož často selhává, nesprávně zobrazuje tupl nebo slovníky. Vypisování není příliš praktické.\n",
    "\n",
    "#### Formátovací metoda\n",
    "Od verze Pythonu 2.6 máme k dispozici další způsob pro formátování:"
   ]
  },
  {
   "cell_type": "code",
   "execution_count": null,
   "metadata": {},
   "outputs": [],
   "source": [
    "JMENO = \"Eliska\"; VEK = 26\n",
    "\"Ahoj, jmenuji se {} a je mi {} let\" .format(JMENO, VEK)"
   ]
  },
  {
   "cell_type": "markdown",
   "metadata": {},
   "source": [
    "**Pozor!** použití je pořád poměrně upovídaní např. při zápisu více proměnných. Má rozhodně široké možnosti formátování, ale vždy prakticky použitelné.\n",
    "\n",
    "#### 🔝 Formátovaný string (f-string)\n",
    "Od verze Pythonu 3.6 máme k dispozici ještě třetí metodu pro formátování stringů."
   ]
  },
  {
   "cell_type": "code",
   "execution_count": null,
   "metadata": {},
   "outputs": [],
   "source": [
    "JMENO = \"Lucie\"; VEK = 28\n",
    "f\"Ahoj, jmenuji se {JMENO} a je mi {VEK} let\""
   ]
  },
  {
   "cell_type": "markdown",
   "metadata": {},
   "source": [
    "Syntaxe je stručná přesto čitelná. Zvládá různé platné operace v Pythonu včetně volání funkcí. Opatrně při důsledném zapisování uvozovek.\n",
    "\n",
    "---"
   ]
  },
  {
   "cell_type": "markdown",
   "metadata": {},
   "source": [
    "### Třetí část zápisu úlohy"
   ]
  },
  {
   "cell_type": "code",
   "execution_count": null,
   "metadata": {},
   "outputs": [],
   "source": [
    "# TODO"
   ]
  },
  {
   "cell_type": "code",
   "execution_count": null,
   "metadata": {},
   "outputs": [],
   "source": [
    "PREVOD = {\n",
    "    \"byt0001\": \"1+1\",\n",
    "    \"byt0002\": \"2+1\",\n",
    "    \"byt0003\": \"2+kk\",\n",
    "    \"byt0004\": \"3+1\",\n",
    "    \"byt0005\": \"3+kk\",\n",
    "    \"byt0006\": \"4+1\",\n",
    "    \"byt0007\": \"4+kk\",\n",
    "}"
   ]
  },
  {
   "cell_type": "code",
   "execution_count": null,
   "metadata": {},
   "outputs": [],
   "source": [
    "# TODO"
   ]
  },
  {
   "cell_type": "code",
   "execution_count": null,
   "metadata": {},
   "outputs": [],
   "source": [
    "# TODO"
   ]
  },
  {
   "cell_type": "markdown",
   "metadata": {},
   "source": [
    "### Absolutní & relativní cesta\n",
    "Samotné ukázky obou těchto variant jsou více než názorné:\n",
    "1. **absolutní** cesta\n",
    "```bash\n",
    "/home/matous/projects/materials/soubor.py\n",
    "c:\\dokumenty\\users\\materialy\\soubor.py\n",
    "```\n",
    "\n",
    "2. **relativní** cesta\n",
    "```bash\n",
    "soubor.py\n",
    "```\n",
    "Aplikaci jedné či druhé cesty je na čistě na vás. Opatrně pouze na předpoklad, že pokud spouštíte skript `py` a použijete relativní cestu, musí být soubor na stejném umístění jako skript `py`."
   ]
  },
  {
   "cell_type": "markdown",
   "metadata": {},
   "source": [
    "### Spouštění nebo importování souboru\n",
    "Jakmile načte interpret Pythonu náš soubor dělá nejprve tyto dvě věci:\n",
    "1. Nastaví několik speciálních proměnných (mezi nimi i `__name__`)\n",
    "2. Spustí všechny instrukce v souboru\n",
    "\n",
    "Pokud spouštíte soubor py pomocí interpretu v cli gui, interpret nachystá do proměnné `__name__` hodnotu `\"__main__\"`:\n",
    "```bash\n",
    "$ echo \"print(__name__)\" > pokus.py\n",
    "$ python3 pokus.py\n",
    "__main__\n",
    "```\n",
    "\n",
    "Pokud soubor importujete (např. pomocí interpretu), dostanete jiný výstup:\n",
    "```bash\n",
    "$ python3\n",
    ">>> import pokus\n",
    "pokus\n",
    "```\n",
    "\n",
    "#### Praktická ukázka"
   ]
  },
  {
   "cell_type": "code",
   "execution_count": 3,
   "metadata": {},
   "outputs": [],
   "source": [
    "def hlavni():\n",
    "    print(\"Spoustim hlavni funkci()\")\n",
    "    print(\"Volani prvni funkce...\")\n",
    "    funkce_1()\n",
    "    print(\"Volani druhe funkce...\")\n",
    "    funkce_2()\n",
    "    print(\"Volani treti MEGA BOZI funkce...\")\n",
    "    funkce_3()\n",
    "\n",
    "\n",
    "def funkce_1():\n",
    "    print(\"Spousteni prvni funkce...\")\n",
    "\n",
    "\n",
    "def funkce_2():\n",
    "    print(\"Spousteni druhe funkce...\")\n",
    "\n",
    "\n",
    "def funkce_3():\n",
    "    print(\"Spousteni treti MEGA BOZI funkce...\")"
   ]
  },
  {
   "cell_type": "code",
   "execution_count": 4,
   "metadata": {
    "scrolled": true
   },
   "outputs": [
    {
     "name": "stdout",
     "output_type": "stream",
     "text": [
      "Spoustim hlavni funkci()\n",
      "Volani prvni funkce...\n",
      "Spousteni prvni funkce...\n",
      "Volani druhe funkce...\n",
      "Spousteni druhe funkce...\n",
      "Volani treti MEGA BOZI funkce...\n",
      "Spousteni treti MEGA BOZI funkce...\n"
     ]
    }
   ],
   "source": [
    "hlavni()"
   ]
  },
  {
   "cell_type": "markdown",
   "metadata": {},
   "source": [
    "Vyzkoušejte si ukázku výše nejprve spustit pomocí interpretu a poté nahrát jako importovaný soubor."
   ]
  },
  {
   "cell_type": "code",
   "execution_count": 5,
   "metadata": {},
   "outputs": [
    {
     "name": "stdout",
     "output_type": "stream",
     "text": [
      "Spoustim hlavni funkci()\n",
      "Volani prvni funkce...\n",
      "Spousteni prvni funkce...\n",
      "Volani druhe funkce...\n",
      "Spousteni druhe funkce...\n",
      "Volani treti MEGA BOZI funkce...\n",
      "Spousteni treti MEGA BOZI funkce...\n"
     ]
    }
   ],
   "source": [
    "# TODO"
   ]
  },
  {
   "cell_type": "markdown",
   "metadata": {},
   "source": [
    "Na základě znalosti práce interpretu můžeme napsat syntaxi, která oddělí průběh souboru při spouštění a pří nahrávání."
   ]
  }
 ],
 "metadata": {
  "kernelspec": {
   "display_name": "Python 3",
   "language": "python",
   "name": "python3"
  },
  "language_info": {
   "codemirror_mode": {
    "name": "ipython",
    "version": 3
   },
   "file_extension": ".py",
   "mimetype": "text/x-python",
   "name": "python",
   "nbconvert_exporter": "python",
   "pygments_lexer": "ipython3",
   "version": "3.8.5"
  }
 },
 "nbformat": 4,
 "nbformat_minor": 4
}
