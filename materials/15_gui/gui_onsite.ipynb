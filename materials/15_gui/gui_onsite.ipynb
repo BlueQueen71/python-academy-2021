{
 "cells": [
  {
   "cell_type": "markdown",
   "metadata": {},
   "source": [
    "## Engeto, Python akademie 2021, GUI"
   ]
  },
  {
   "cell_type": "markdown",
   "metadata": {},
   "source": [
    "###  Obsah lekce:\n",
    "1. [Užitečné odkazy](#Užitečné-odkazy)\n",
    "2. [Balíček tk-interface](#Balíček-tk-interface)\n",
    "3. [Nové okno](#Nové-okno)\n",
    "4. [Více polí v okně](#Více-polí-v-okně)\n",
    "5. [Vlastní tlačítko](#Vlastní-tlačítko)\n",
    "7. [Vstupy & výstupy](#Vstupy-&-výstupy)\n",
    "8. [Anonymní funkce](#Anonymní-funkce)\n",
    "9. [Více tlačítek](#Více-tlačítek)\n",
    "10. [Operace sčítání](#Operace-sčítání)\n",
    "11. [Doplnění zápisu](#Doplnění-zápisu)\n",
    "---"
   ]
  },
  {
   "cell_type": "markdown",
   "metadata": {},
   "source": [
    "### Užitečné odkazy:\n",
    "- [Oficiální dokumentace modulu **tkinter** (docs.python.org)](https://docs.python.org/3/library/tkinter.html)\n",
    "- [Oficiální dokumentace alternativní knihovny **PyQt5** (learnpyqt.com)](https://www.learnpyqt.com/)\n",
    "\n",
    "- [Oficiální dokumentace zabudovaných funkcí v Pythonu (python.org)](https://docs.python.org/3/library/functions.html)\n",
    "- [Neoficiální dokumentace k **anonymním funkcím** (lambda funkcím) (pythonguides.com)](https://pythonguides.com/python-anonymous-function/)\n",
    "- [Neoficiální dokumentace pro barevnou paletu **Color hex** (color-hex.com)](https://www.color-hex.com/)\n",
    "---"
   ]
  },
  {
   "cell_type": "markdown",
   "metadata": {},
   "source": [
    "### Balíček tk-interface\n",
    "Standartní Python modul v základní výbavě, jehož hlavním účelem je práce s grafickým uživatelským prostředím. Nejprve nahrajeme modul samotný (netřeba nic instalovat přes manažer balíčků):"
   ]
  },
  {
   "cell_type": "code",
   "execution_count": null,
   "metadata": {},
   "outputs": [],
   "source": [
    "# TODO\n",
    "import tkinter"
   ]
  },
  {
   "cell_type": "code",
   "execution_count": null,
   "metadata": {},
   "outputs": [],
   "source": [
    "# TODO\n",
    "help(tkinter.Label)"
   ]
  },
  {
   "cell_type": "code",
   "execution_count": null,
   "metadata": {},
   "outputs": [],
   "source": [
    "# TODO\n",
    "dir(tkinter)"
   ]
  },
  {
   "cell_type": "markdown",
   "metadata": {},
   "source": [
    "K dispozici je jak podrobná dokumentace, tak soupis všechn dostupnách atributů a metod, související s tímto balíčkem."
   ]
  },
  {
   "cell_type": "markdown",
   "metadata": {},
   "source": [
    "### Nové okno\n",
    "1. Nejprve vytvoříme instanci třídy `Tk` jako objekt `gui`\n",
    "2. Vytvoříme widget se štítkem `my_window`\n",
    "3. Pomocí metody `pack()` nastavíme zobrazení widgetu (defaultní)\n",
    "4. Pojmenujeme okno s metodou `wm_title()`\n",
    "5. Vykreslíme okno s `mainloop()`\n",
    "6. [Link na demo](https://repl.it/@JustBraloR/sample1#main.py)"
   ]
  },
  {
   "cell_type": "code",
   "execution_count": null,
   "metadata": {},
   "outputs": [],
   "source": [
    "# TODO\n",
    "from tkinter import Tk, Label\n",
    "\n",
    "gui = Tk()\n",
    "gui.wm_title(\"Nase prvni okno!\")\n",
    "\n",
    "my_window = Label(gui, text=\"Kalkulacka\")\n",
    "my_window.pack()\n",
    "\n",
    "gui.mainloop()"
   ]
  },
  {
   "cell_type": "markdown",
   "metadata": {},
   "source": [
    "Displej máme nachystaný. Nicméně budeme potřebovat rozdělit gui na část, která bude sloužit jako display a část, která bude sloužit jako klávesnice."
   ]
  },
  {
   "cell_type": "markdown",
   "metadata": {},
   "source": [
    "### Více polí v okně\n",
    "1. Pomocí `Label` rozdělíme naše nové okno na dvě části\n",
    "2. První pole pro zobrazování: `display`\n",
    "3. Druhé pole pro klávesnici: `keyboard`\n",
    "4. [Link na demo](https://repl.it/@JustBraloR/sample2#main.py)"
   ]
  },
  {
   "cell_type": "code",
   "execution_count": null,
   "metadata": {},
   "outputs": [],
   "source": [
    "# TODO\n",
    "from tkinter import Tk, Label\n",
    "\n",
    "gui = Tk()\n",
    "gui.wm_title(\"Kalkulator:)\")\n",
    "\n",
    "displej = Label(gui, text=\"Displej\")\n",
    "klavesnice = Label(gui, text=\"Klavesnice\")\n",
    "\n",
    "displej.grid(row=0, column=0)\n",
    "klavesnice.grid(row=1, column=0)\n",
    "\n",
    "gui.mainloop()"
   ]
  },
  {
   "cell_type": "code",
   "execution_count": null,
   "metadata": {},
   "outputs": [],
   "source": [
    "from tkinter import Label\n",
    "help(Label.grid)  # find_all/findAll -> function quit/exit -> func()"
   ]
  },
  {
   "cell_type": "markdown",
   "metadata": {},
   "source": [
    "Máme okno rozdělené. Pořád ale obsahuje jen úvodní popisky obou částí. Těch se dále zbavíme. Nyní vytvoříme naše první tlačítko."
   ]
  },
  {
   "cell_type": "markdown",
   "metadata": {},
   "source": [
    "### Vlastní tlačítko\n",
    "1. Definujeme funkci `write_message`, ta vypíše obyčejný `string` na výstup\n",
    "2. Definujeme tlačítko jako instanci třídy `Button`\n",
    "3. Doplníme argument `command`\n",
    "4. Po kliknutí na tlačítko `Click!` chceme vypsat `string` z prvního kroku, této části\n",
    "5. [Link na demo](https://repl.it/@JustBraloR/sample3#main.py)"
   ]
  },
  {
   "cell_type": "code",
   "execution_count": null,
   "metadata": {},
   "outputs": [],
   "source": [
    "import tkinter"
   ]
  },
  {
   "cell_type": "code",
   "execution_count": null,
   "metadata": {},
   "outputs": [],
   "source": [
    "help(tkinter.Button)  # napoveda pro tridu `Button`"
   ]
  },
  {
   "cell_type": "code",
   "execution_count": null,
   "metadata": {},
   "outputs": [],
   "source": [
    "# TODO\n",
    "from tkinter import Tk, Label, Button\n",
    "\n",
    "gui = Tk()\n",
    "gui.wm_title(\"Kalkulator:O\")\n",
    "\n",
    "\n",
    "def vypis_zpravu():\n",
    "    displej = Label(gui, text=\"Toto je zprava!\")\n",
    "    displej.pack()\n",
    "\n",
    "\n",
    "tlacitko = Button(gui, text=\"Klikni na me!\", command=vypis_zpravu, fg=\"#FFFFFF\", bg=\"#1BF8B0\")\n",
    "tlacitko.pack()\n",
    "\n",
    "# displej.grid(row=0, column=0)\n",
    "# klavesnice.grid(row=1, column=0)\n",
    "\n",
    "gui.mainloop()"
   ]
  },
  {
   "cell_type": "markdown",
   "metadata": {},
   "source": [
    "Jednoduché tlačítko není problém. Situace je ale o to zajímavější, pokud přidáme nějaká uživatelský vstup."
   ]
  },
  {
   "cell_type": "markdown",
   "metadata": {},
   "source": [
    "### Vstupy & výstupy\n",
    "1. Vytvoříme instanci třídy `Entry` pro vstupní pole. Tady budeme zapisovat nejprve naše jméno (později tuto funkcionalitu upravíme)\n",
    "2. Aplikujeme funkci `insert`, která se postará o odeslání zapsaného `string`\n",
    "3. Zkombinujeme ve funkci `write_message` pomocí funkce `get`"
   ]
  },
  {
   "cell_type": "code",
   "execution_count": null,
   "metadata": {},
   "outputs": [],
   "source": [
    "# TODO\n",
    "# input: \"Matous\" -> \"Ahoj, Matous\"\n",
    "\n",
    "from tkinter import Tk, Label, Button, Entry\n",
    "\n",
    "gui = Tk()\n",
    "gui.wm_title(\"Kalkulator:O\")\n",
    "\n",
    "vstup = Entry(gui, width=50)\n",
    "vstup.pack()\n",
    "vstup.insert(0, \"Zapiste svoje jmeno\")  # \"Matous\"\n",
    "\n",
    "\n",
    "def vypis_zpravu():\n",
    "    zprava = f\"Ahoj, {vstup.get()}\"  # \"Ahoj, Matous\"\n",
    "    displej = Label(gui, text=zprava)\n",
    "    displej.pack()\n",
    "\n",
    "\n",
    "tlacitko = Button(gui, text=\"Klikni na me!\", command=vypis_zpravu, fg=\"#FFFFFF\", bg=\"#1BF8B0\")\n",
    "tlacitko.pack()\n",
    "\n",
    "gui.mainloop()"
   ]
  },
  {
   "cell_type": "code",
   "execution_count": null,
   "metadata": {},
   "outputs": [],
   "source": [
    "from tkinter import Entry\n",
    "help(Entry)"
   ]
  },
  {
   "cell_type": "markdown",
   "metadata": {},
   "source": [
    "Nyní umí naše kalkulačka pracovat se vstupy. Nyní je na čase definovat ji řádné tlačítka, které naše kalkulačka bude mít."
   ]
  },
  {
   "cell_type": "markdown",
   "metadata": {},
   "source": [
    "### Anonymní funkce\n",
    "Tyto funkce jsou prakticky jedinkrát použitelné. Nemají jméno, takže neukládáme jejich definice a používáme je přímo na místě v kódu.<br />\n",
    "\n",
    "Jakmile na ně interpret narazí, provede sadu instrukcí, která tato anonymní (~lambda) funkce obsahuje a zahodí je."
   ]
  },
  {
   "cell_type": "markdown",
   "metadata": {},
   "source": [
    "#### Varianta s argumentem:"
   ]
  },
  {
   "cell_type": "code",
   "execution_count": null,
   "metadata": {},
   "outputs": [],
   "source": [
    "vyraz = lambda cislo: cislo ** 2\n",
    "# TODO\n",
    "print(vyraz(4))"
   ]
  },
  {
   "cell_type": "markdown",
   "metadata": {},
   "source": [
    "#### Varianta bez argumentu:"
   ]
  },
  {
   "cell_type": "code",
   "execution_count": null,
   "metadata": {},
   "outputs": [],
   "source": [
    "def add_val(num):\n",
    "    return num + 1\n",
    "\n",
    "\n",
    "prikaz = lambda: add_val(19)\n",
    "print(prikaz)"
   ]
  },
  {
   "cell_type": "markdown",
   "metadata": {},
   "source": [
    "### Více tlačítek\n",
    "1. Definujeme funkci `on_click` s jedním parametrem `number`\n",
    "2. Vytvoříme tlačítka s argumenty `1`, `2` a `3`\n",
    "3. Použijeme tzv. _anonymní funkce_ pro spuštění funkce s parametrem."
   ]
  },
  {
   "cell_type": "code",
   "execution_count": null,
   "metadata": {},
   "outputs": [],
   "source": [
    "from tkinter import Tk, Label, Button, Entry\n",
    "\n",
    "gui = Tk()\n",
    "gui.wm_title(\"Kalkulator\")\n",
    "\n",
    "vstup = Entry(gui, width=50, borderwidth=5)\n",
    "vstup.grid(row=0, column=0, columnspan=3, padx=10, pady=10)\n",
    "\n",
    "\n",
    "def vypis(number):\n",
    "    vstup.insert(0, number)\n",
    "    \n",
    "\n",
    "tlacitko_1 = Button(gui, text=\"1\", padx=40, pady= 20, command=lambda: vypis(1))\n",
    "tlacitko_2 = Button(gui, text=\"2\", padx=40, pady= 20, command=lambda: vypis(2))\n",
    "tlacitko_3 = Button(gui, text=\"3\", padx=40, pady= 20, command=lambda: vypis(3))\n",
    "\n",
    "tlacitko_1.grid(row=1, column=0)\n",
    "tlacitko_2.grid(row=1, column=1)\n",
    "tlacitko_3.grid(row=1, column=2)\n",
    "\n",
    "gui.mainloop()"
   ]
  },
  {
   "cell_type": "code",
   "execution_count": null,
   "metadata": {},
   "outputs": [],
   "source": [
    "from tkinter import Entry\n",
    "help(Entry.grid)"
   ]
  },
  {
   "cell_type": "markdown",
   "metadata": {},
   "source": [
    "V tento moment máme pouze část kalkulačky. Můžeme zadávat čísla (mačkat tlačítka). Rozměry tlačítek a zobrazovacího displeje jsou specifikovány argumenty."
   ]
  },
  {
   "cell_type": "markdown",
   "metadata": {},
   "source": [
    "### Šestá část úlohy:\n",
    "1. Využijeme třídu `StringVar`, ta bude sloužit jako proměnná pro uchování hodnot. Bude v podstatě snímat takové hodnoty, které tlačítky zapíšeme do našeho displeje.\n",
    "2. Uložená data posíláme do funkce pomocí `Entry`, argument `textvariable`\n",
    "3. Kvůli práci s lambda funkcemi budeme používat ohlášení `global` tím se vyhneme komplikované práci s parametry.\n",
    "4. Nastavíme defaultní text pomocí metody `set` a pomocnou proměnnou"
   ]
  },
  {
   "cell_type": "code",
   "execution_count": null,
   "metadata": {},
   "outputs": [],
   "source": [
    "from tkinter import StringVar, Entry\n",
    "help(Entry)"
   ]
  },
  {
   "cell_type": "code",
   "execution_count": null,
   "metadata": {},
   "outputs": [],
   "source": [
    "from tkinter import Tk, Label, Button, Entry, StringVar\n",
    "\n",
    "\n",
    "gui = Tk()\n",
    "gui.wm_title(\"Kalkulator\")\n",
    "\n",
    "rovnice = StringVar()\n",
    "\n",
    "vstup = Entry(gui, width=50, borderwidth=5, textvariable=rovnice)\n",
    "vstup.grid(row=0, column=0, columnspan=3, padx=10, pady=10)\n",
    "\n",
    "rovnice.set(\"Zmacknete tlacitko s cislem\")\n",
    "zadani = \"\"  # 123\n",
    "\n",
    "\n",
    "def vypis(cislo):\n",
    "    global zadani\n",
    "    zadani += str(cislo)\n",
    "    rovnice.set(zadani)\n",
    "    \n",
    "\n",
    "tlacitko_1 = Button(gui, text=\"1\", padx=40, pady= 20, command=lambda: vypis(1))\n",
    "tlacitko_2 = Button(gui, text=\"2\", padx=40, pady= 20, command=lambda: vypis(2))\n",
    "tlacitko_3 = Button(gui, text=\"3\", padx=40, pady= 20, command=lambda: vypis(3))\n",
    "\n",
    "tlacitko_1.grid(row=1, column=0)\n",
    "tlacitko_2.grid(row=1, column=1)\n",
    "tlacitko_3.grid(row=1, column=2)\n",
    "\n",
    "gui.mainloop()"
   ]
  },
  {
   "cell_type": "markdown",
   "metadata": {},
   "source": [
    "### Operace sčítání\n",
    "1. Přidáme čtvrté tlačítko, pro sčítání `+`\n",
    "2. Přidáme první tlačítko ve druhé řadě pro `=`\n",
    "3. Přidáme funkci `equal`, která vyhodnotí obsah `entry`\n",
    "4. Funkce `equal` umí pracovat jak s čísly, tak se symboly (použijeme pomocnou built-in funkci `eval`)"
   ]
  },
  {
   "cell_type": "code",
   "execution_count": null,
   "metadata": {},
   "outputs": [],
   "source": [
    "x = 1\n",
    "y = 2\n",
    "z = 5"
   ]
  },
  {
   "cell_type": "code",
   "execution_count": null,
   "metadata": {},
   "outputs": [],
   "source": [
    "eval(\"x + y*z\")"
   ]
  },
  {
   "cell_type": "code",
   "execution_count": null,
   "metadata": {},
   "outputs": [],
   "source": [
    "from tkinter import Tk, Label, Button, Entry, StringVar\n",
    "\n",
    "\n",
    "gui = Tk()\n",
    "gui.wm_title(\"Kalkulator\")\n",
    "\n",
    "rovnice = StringVar()\n",
    "\n",
    "vstup = Entry(gui, width=50, borderwidth=5, textvariable=rovnice)\n",
    "vstup.grid(row=0, column=0, columnspan=3, padx=10, pady=10)\n",
    "\n",
    "rovnice.set(\"Zmacknete tlacitko s cislem\")\n",
    "zadani = \"\"  # 123\n",
    "\n",
    "\n",
    "def vypis(cislo):\n",
    "    global zadani\n",
    "    zadani += str(cislo)\n",
    "    rovnice.set(zadani)\n",
    "    \n",
    "    \n",
    "def vysledek():\n",
    "    global zadani\n",
    "    celkem = str(eval(zadani))\n",
    "    rovnice.set(celkem)\n",
    "    rovnice = \"\"\n",
    "    \n",
    "\n",
    "tlacitko_1 = Button(gui, text=\"1\", padx=40, pady= 20, command=lambda: vypis(1))\n",
    "tlacitko_2 = Button(gui, text=\"2\", padx=40, pady= 20, command=lambda: vypis(2))\n",
    "tlacitko_3 = Button(gui, text=\"3\", padx=40, pady= 20, command=lambda: vypis(3))\n",
    "tlacitko_add = Button(gui, text=\"+\", command=lambda: vypis(\"+\"))\n",
    "tlacitko_eql = Button(gui, text=\"=\", command=vysledek)\n",
    "\n",
    "tlacitko_1.grid(row=1, column=0)\n",
    "tlacitko_2.grid(row=1, column=1)\n",
    "tlacitko_3.grid(row=1, column=2)\n",
    "tlacitko_add.grid(row=2, column=0)\n",
    "tlacitko_eql.grid(row=2, column=1)\n",
    "\n",
    "gui.mainloop()"
   ]
  },
  {
   "cell_type": "markdown",
   "metadata": {},
   "source": [
    "Po sedmé části máme kompletních několik tlačítek pro čísla, sčítání a výsledek. S nadsázkou můžeme říct, že dopsat zbytek bude prakticky opakování. Pojďme tedy doplnit zbytek tlačítek a operací k nim."
   ]
  },
  {
   "cell_type": "markdown",
   "metadata": {},
   "source": [
    "### Doplnění zápisu\n",
    "V poslední části naší úlohy doplníme následující:\n",
    "\n",
    "1. Chybějící tlačítka čísel\n",
    "2. Chybějící tlačítka operací\n",
    "3. Chybějící tlačítko pro mazání vstupu `CE`\n",
    "4. Rozměry tlačítek"
   ]
  },
  {
   "cell_type": "code",
   "execution_count": null,
   "metadata": {},
   "outputs": [],
   "source": [
    "from tkinter import Tk, Label, Button, Entry, StringVar\n",
    "\n",
    "\n",
    "gui = Tk()\n",
    "gui.geometry(\"600x350\")\n",
    "gui.wm_title(\"Kalkulator\")\n",
    "\n",
    "rovnice = StringVar()\n",
    "vstup = Entry(gui, width=50, borderwidth=5, textvariable=rovnice)\n",
    "vstup.grid(row=0, column=0, columnspan=3, padx=10, pady=10)\n",
    "rovnice.set(\"Zmacknete tlacitko s cislem\")\n",
    "zadani = \"\"  # 1 + 1...\n",
    "\n",
    "\n",
    "def vypis(cislo):\n",
    "    global zadani\n",
    "    zadani += str(cislo)\n",
    "    rovnice.set(zadani)\n",
    "    \n",
    "    \n",
    "def vysledek():\n",
    "    global zadani\n",
    "    celkem = str(eval(zadani))\n",
    "    rovnice.set(celkem)\n",
    "    zadani = str(celkem)  # doplnit .ipynb-solution\n",
    "    \n",
    "\n",
    "def vycisti_zapis():\n",
    "    global zadani\n",
    "    zadani = \"\"\n",
    "    rovnice.set(\"\")\n",
    "    \n",
    "    \n",
    "tlacitko_1 = Button(gui, text=\"1\", width=40, pady= 20, command=lambda: vypis(1))\n",
    "tlacitko_2 = Button(gui, text=\"2\", padx=40, pady= 20, command=lambda: vypis(2))\n",
    "tlacitko_3 = Button(gui, text=\"3\", padx=40, pady= 20, command=lambda: vypis(3))\n",
    "tlacitko_add = Button(gui, text=\"+\", padx=40, pady= 20, command=lambda: vypis(\"+\"))\n",
    "\n",
    "tlacitko_4 = Button(gui, text=\"4\", padx=40, pady= 20, command=lambda: vypis(4))\n",
    "tlacitko_5 = Button(gui, text=\"5\", padx=40, pady= 20, command=lambda: vypis(5))\n",
    "tlacitko_6 = Button(gui, text=\"6\", padx=40, pady= 20, command=lambda: vypis(6))\n",
    "tlacitko_sub = Button(gui, text=\"-\", padx=40, pady= 20, command=lambda: vypis(\"-\"))\n",
    "\n",
    "tlacitko_7 = Button(gui, text=\"7\", padx=40, pady= 20, command=lambda: vypis(7))\n",
    "tlacitko_8 = Button(gui, text=\"8\", padx=40, pady= 20, command=lambda: vypis(8))\n",
    "tlacitko_9 = Button(gui, text=\"9\", padx=40, pady= 20, command=lambda: vypis(9))\n",
    "tlacitko_mul = Button(gui, text=\"*\", padx=40, pady= 20, command=lambda: vypis(\"*\"))\n",
    "\n",
    "tlacitko_0 = Button(gui, text=\"0\", padx=40, pady= 20, command=lambda: vypis(0))\n",
    "tlacitko_div = Button(gui, text=\"/\", padx=40, pady= 20, command=lambda: vypis(\"/\"))\n",
    "tlacitko_clr = Button(gui, text=\"CE\", padx=40, pady= 20, command=vycisti_zapis)\n",
    "tlacitko_eql = Button(gui, text=\"=\", padx=40, pady= 20, command=vysledek)\n",
    "\n",
    "tlacitko_1.grid(row=1, column=0)\n",
    "tlacitko_2.grid(row=1, column=1)\n",
    "tlacitko_3.grid(row=1, column=2)\n",
    "tlacitko_add.grid(row=1, column=3)\n",
    "\n",
    "tlacitko_4.grid(row=2, column=0)\n",
    "tlacitko_5.grid(row=2, column=1)\n",
    "tlacitko_6.grid(row=2, column=2)\n",
    "tlacitko_sub.grid(row=2, column=3)\n",
    "\n",
    "tlacitko_7.grid(row=3, column=0)\n",
    "tlacitko_8.grid(row=3, column=1)\n",
    "tlacitko_9.grid(row=3, column=2)\n",
    "tlacitko_mul.grid(row=3, column=3)\n",
    "\n",
    "tlacitko_0.grid(row=4, column=0)\n",
    "tlacitko_div.grid(row=4, column=1)\n",
    "tlacitko_clr.grid(row=4, column=2)\n",
    "tlacitko_eql.grid(row=4, column=3)\n",
    "\n",
    "gui.mainloop()"
   ]
  },
  {
   "cell_type": "code",
   "execution_count": null,
   "metadata": {},
   "outputs": [],
   "source": [
    "from tkinter import Button\n",
    "help(Button)"
   ]
  }
 ],
 "metadata": {
  "kernelspec": {
   "display_name": "Python 3",
   "language": "python",
   "name": "python3"
  },
  "language_info": {
   "codemirror_mode": {
    "name": "ipython",
    "version": 3
   },
   "file_extension": ".py",
   "mimetype": "text/x-python",
   "name": "python",
   "nbconvert_exporter": "python",
   "pygments_lexer": "ipython3",
   "version": "3.8.5"
  }
 },
 "nbformat": 4,
 "nbformat_minor": 4
}
