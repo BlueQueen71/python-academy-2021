{
 "cells": [
  {
   "cell_type": "markdown",
   "metadata": {},
   "source": [
    "## Engeto, Python akademie 2021, lekce#08"
   ]
  },
  {
   "cell_type": "markdown",
   "metadata": {},
   "source": [
    "###  Obsah lekce\n",
    "1. Uzitecne odkazy\n",
    "2. Opakovani z minule lekce\n",
    "3. Metody & funkce\n",
    "4. Parametry funkci\n",
    "5. Scopes, ramce\n",
    "6. Pravidla ramcu\n",
    "7. Dokumentace funkci\n",
    "8. Uzavirajici ramec **[hackerman]** \n",
    "---\n",
    "\n",
    "###  1. Uzitecne odkazy\n",
    "- [Oficialni dokumentace k **docstring** u funkci (python.org)](https://www.python.org/dev/peps/pep-0257/)\n",
    "- [Oficialni dokumentace k **testovani pomoci docstring** (python.org)](https://docs.python.org/3/library/doctest.html)\n",
    "- [Oficialni dokumentace **zabudovanych funkci** v Pythonu (python.org)](https://docs.python.org/3/library/functions.html)\n",
    "- [Oficialni dokumentace o **type hints** (napovidani u funkci) (python.org)](https://www.python.org/dev/peps/pep-0484/)\n",
    "- [Neoficialni dokumentace k **list comprehensions** (howto.py.cz)](http://howto.py.cz/cap08.htm#10)\n",
    "- [Neoficialni dokumentace k **ternary operator** (book.pythontips.com)](https://book.pythontips.com/en/latest/ternary_operators.html)\n",
    "- [Neoficialni dokumentace k **jmennym prostredim** a **funkcnim ramcum** (code.tutsplus.com)](https://code.tutsplus.com/tutorials/what-are-python-namespaces-and-why-are-they-needed--cms-28598)\n",
    "- [Neoficialni dokumentace k **jmennym prostredim** a **funkcnim ramcum** (realpython.com)](https://realpython.com/python-namespaces-scope/)\n",
    "---\n",
    "\n",
    "### 2. Opakovani z minule lekce\n",
    "Vytvorte (*definujte*) funkci, ktera po spusteni vybere **nejvetsi liche** cislo ze zadaneho seznamu (seznam zadejte do funkce jako jeji **parametr**):"
   ]
  },
  {
   "cell_type": "code",
   "execution_count": null,
   "metadata": {},
   "outputs": [],
   "source": [
    "CISELNA_SEKV = [\n",
    "    397, 214, 592, 955, 141,\n",
    "    168, 532, 204, 21, 198,\n",
    "    179, 872, 483, 257, 249,\n",
    "    157, 340, 786, 268, 334,\n",
    "    43, 718, 735, 602, 804,\n",
    "    806, 906, 593, 672, 391,\n",
    "    274, 867, 54, 601, 592,\n",
    "    416, 985, 168, 834, 608\n",
    "]"
   ]
  },
  {
   "cell_type": "markdown",
   "metadata": {},
   "source": [
    "#### Zapiseme definici funkce:"
   ]
  },
  {
   "cell_type": "code",
   "execution_count": null,
   "metadata": {},
   "outputs": [],
   "source": [
    "def nejvetsi_liche_cislo(sekvence_c: list) -> int:\n",
    "    liche_cislo = 0\n",
    "    for cislo in sekvence_c:\n",
    "        if str(cislo).isnumeric() \\\n",
    "            and cislo % 2 != 0 \\\n",
    "            and cislo > liche_cislo:\n",
    "            liche_cislo = int(cislo)\n",
    "\n",
    "    return liche_cislo"
   ]
  },
  {
   "cell_type": "markdown",
   "metadata": {},
   "source": [
    "#### Spustime definovanou funkci:"
   ]
  },
  {
   "cell_type": "code",
   "execution_count": null,
   "metadata": {},
   "outputs": [],
   "source": [
    "nejvetsi_liche_cislo(CISELNA_SEKV)"
   ]
  },
  {
   "cell_type": "markdown",
   "metadata": {},
   "source": [
    "Jak byste osetrili navrzenou funkci, aby nebyla predcasne ukoncena napr. pokud se uvnitr seznamu objevi `string`?"
   ]
  },
  {
   "cell_type": "code",
   "execution_count": null,
   "metadata": {},
   "outputs": [],
   "source": [
    "NAHODNA_SEKV = [\n",
    "    397, 214, 592, 955, 141,\n",
    "    168, 532, 204, 21, 198,\n",
    "    179, 872, \"a\", 257, 249,\n",
    "    157, 340, 786, 268, 334,\n",
    "    43, 718, 735, 602, 804,\n",
    "    806, 906, 593, 672, 391,\n",
    "    274, 867, 54, 601, 592,\n",
    "    416, 985, 168, 834, 608\n",
    "]"
   ]
  },
  {
   "cell_type": "markdown",
   "metadata": {},
   "source": [
    "#### Vyzkousejte vase reseni:"
   ]
  },
  {
   "cell_type": "code",
   "execution_count": null,
   "metadata": {},
   "outputs": [],
   "source": [
    "nejvetsi_liche_cislo(NAHODNA_SEKV)"
   ]
  },
  {
   "cell_type": "markdown",
   "metadata": {},
   "source": [
    "### Kalkulacka v cli\n",
    "V ramci opakovani materialu k funkcim a soucasne aplikace nove teorie budeme zpracovavat kratky soubor `kalkulacka.py`\n",
    "\n",
    "#### Vstupni udaje\n",
    "*pozn.* kvuli praci v Jupyter notebook opet pouzivat funkci `clear_output` misto `system` z modulu `os`"
   ]
  },
  {
   "cell_type": "code",
   "execution_count": null,
   "metadata": {},
   "outputs": [],
   "source": [
    "# import os; os.system(\"cls\")/os.system(\"clear\")\n",
    "from IPython.display import clear_output\n",
    "\n",
    "# TODO - \"+\", \"-\", \"*\", \"/\", \"prum\", \"pow\", \"quit\"\n",
    "nabidka = \" | \".join((\"+\", \"-\", \"*\", \"/\", \"prum\", \"pow\", \"quit\"))\n",
    "SEP = \"-\" * len(nabidka)"
   ]
  },
  {
   "cell_type": "code",
   "execution_count": null,
   "metadata": {},
   "outputs": [],
   "source": [
    "while True:\n",
    "    print(SEP, nabidka, SEP, sep=\"\\n\")\n",
    "    vyber = input(\"vyber operaci:\")\n",
    "    \n",
    "    if vyber == \"quit\":\n",
    "        clear_output()\n",
    "        print(\"ukoncuji..\")\n",
    "        break\n",
    "    elif vyber in (\"+\", \"-\", \"*\", \"/\"):\n",
    "        clear_output()\n",
    "        print(\"Zakladni mat. operace\")\n",
    "    elif vyber == \"prum\":\n",
    "        clear_output()\n",
    "        print(\"Prumer\")\n",
    "    elif vyber == \"pow\":\n",
    "        clear_output()\n",
    "        print(\"Umocnovani\")"
   ]
  },
  {
   "cell_type": "markdown",
   "metadata": {},
   "source": [
    "### 3. Metody & funkce\n",
    "Jaky je mezi nimi rozdil? Jake jsou indikatory jestli se jedna o funkci prip. metodu. Na co si davat pozor?<br />\n",
    "\n",
    "Nejprve si zkusime spustit funkci `input`, jeji pouziti zname. Nasledne si zkuste spustit metody `lower` a porovnejte rozdil:"
   ]
  },
  {
   "cell_type": "code",
   "execution_count": null,
   "metadata": {},
   "outputs": [],
   "source": [
    "input()"
   ]
  },
  {
   "cell_type": "code",
   "execution_count": null,
   "metadata": {},
   "outputs": [],
   "source": [
    "lower()"
   ]
  },
  {
   "cell_type": "markdown",
   "metadata": {},
   "source": [
    "#### Funkce, priklady"
   ]
  },
  {
   "cell_type": "code",
   "execution_count": null,
   "metadata": {},
   "outputs": [],
   "source": [
    "input()\n",
    "print()\n",
    "bool()\n",
    "str()"
   ]
  },
  {
   "cell_type": "code",
   "execution_count": null,
   "metadata": {},
   "outputs": [],
   "source": [
    "def vl_funkce():\n",
    "    return \"Moje funkce\"\n",
    "\n",
    "\n",
    "vl_funkce()"
   ]
  },
  {
   "cell_type": "markdown",
   "metadata": {},
   "source": [
    "#### Metody, priklady"
   ]
  },
  {
   "cell_type": "code",
   "execution_count": null,
   "metadata": {},
   "outputs": [],
   "source": [
    "\"Matous\".lower()\n",
    "\"Matous\".upper()\n",
    "sezn_priklad = list()\n",
    "sezn_priklad.append(\"nejaky_string\")"
   ]
  },
  {
   "cell_type": "markdown",
   "metadata": {},
   "source": [
    "#### Shrnuti\n",
    "Podle zaveru z prikladu uvedenych vyse. **Funkce**, muzeme spustit samotnou, pomoci jejiho jmena.<br />\n",
    "Pokud chceme spustit **metody**, musime nejprve pouzit objekt, se kterym chceme pracovat a teprve pote prislusnou metodu (jednotlive datove typy maji vlastni metody, vice [zde](https://www.python.org/doc/))."
   ]
  },
  {
   "cell_type": "markdown",
   "metadata": {},
   "source": [
    "### 4. Parametry funkci\n",
    "Nejprve upravime nas dosavadni zapis pomoci prvni funkce:"
   ]
  },
  {
   "cell_type": "code",
   "execution_count": null,
   "metadata": {},
   "outputs": [],
   "source": [
    "from IPython.display import clear_output"
   ]
  },
  {
   "cell_type": "code",
   "execution_count": null,
   "metadata": {},
   "outputs": [],
   "source": [
    "# TODO - \"+\", \"-\", \"*\", \"/\", \"prum\", \"pow\", \"quit\"\n",
    "def nabidka(operace) -> None:\n",
    "    nabidka = \" | \".join(operace)\n",
    "    SEP = \"-\" * len(nabidka)\n",
    "    print(SEP, nabidka, SEP, sep=\"\\n\")"
   ]
  },
  {
   "cell_type": "markdown",
   "metadata": {},
   "source": [
    "Potrebujeme vlozit vetsi pocet argumentu. Dale budeme zapis rozsirovat, takze bude nabidka operatoru v case ruzna:"
   ]
  },
  {
   "cell_type": "code",
   "execution_count": null,
   "metadata": {
    "scrolled": true
   },
   "outputs": [],
   "source": [
    "nabidka(\"+\", \"-\", \"*\", \"/\")"
   ]
  },
  {
   "cell_type": "markdown",
   "metadata": {},
   "source": [
    "Zapis **funkcnich parametru** muzeme rozdelit nasledovne:\n",
    "1. Pozicni argumenty\n",
    "2. Klicove argumenty\n",
    "3. Defaultni parametry\n",
    "4. 🆕 Position-only parametry\n",
    "5. 😱 *args\n",
    "6. 🤖 **kwargs\n",
    "\n",
    "#### Pozicni argumenty\n",
    "Jde o zapis, kdy se jednotlive argumenty \"doplnuji\" do parametru funkce podle pozice, na kterou je zapiseme (podobne jako indexy u seznamu). <br />\n",
    "Jde o **cistejsi** a **castejsi** formu zapisu argumentu (parametru):"
   ]
  },
  {
   "cell_type": "code",
   "execution_count": null,
   "metadata": {},
   "outputs": [],
   "source": [
    "def ukazme_si(par1, par2, par3):\n",
    "    print(f\"To je {par1}!\")\n",
    "    print(f\"To je {par2}!\")\n",
    "    print(f\"To je {par3}!\")"
   ]
  },
  {
   "cell_type": "code",
   "execution_count": null,
   "metadata": {},
   "outputs": [],
   "source": [
    "ukazme_si(\"Matous\", \"Lukas\", \"Honzik\")"
   ]
  },
  {
   "cell_type": "markdown",
   "metadata": {},
   "source": [
    "#### Klicove parametry\n",
    "Tato varianta garantuje spravnost pri predani hodnoty od argumentu do parametru na zaklade jmena (podobne jako prace s promennymi).<br />\n",
    "Tento zpusob je **mene casty** (prokazatelne horsi jasnost):"
   ]
  },
  {
   "cell_type": "code",
   "execution_count": null,
   "metadata": {},
   "outputs": [],
   "source": [
    "def ukazme_si(par1, par2, par3):\n",
    "    print(f\"To je {par1}!\")\n",
    "    print(f\"To je {par2}!\")\n",
    "    print(f\"To je {par3}!\")"
   ]
  },
  {
   "cell_type": "code",
   "execution_count": null,
   "metadata": {},
   "outputs": [],
   "source": [
    "ukazme_si(par1=\"Matous\", par2=\"Lukas\", par3=\"Honzik\")"
   ]
  },
  {
   "cell_type": "markdown",
   "metadata": {},
   "source": [
    "#### Defaultni parametry\n",
    "Pri pouziti predchozi varianty dochazi casto k zamenovani techto dvou zpusobu zapisu:"
   ]
  },
  {
   "cell_type": "code",
   "execution_count": null,
   "metadata": {},
   "outputs": [],
   "source": [
    "def ukazme_si(par1=\"Helga\", par2=\"Henry\", par3=\"Harold\"):\n",
    "    print(f\"To je {par1}!\")\n",
    "    print(f\"To je {par2}!\")\n",
    "    print(f\"To je {par3}!\")"
   ]
  },
  {
   "cell_type": "code",
   "execution_count": null,
   "metadata": {},
   "outputs": [],
   "source": [
    "ukazme_si(\"Matous\", \"Lukas\", \"Honzik\")"
   ]
  },
  {
   "cell_type": "markdown",
   "metadata": {},
   "source": [
    "Zadna zmena oproti puvodnimu reseni je zpusobena tim, ze jsme spustili funkci s explicitne zadanymi hodnotami argumentu.<br />"
   ]
  },
  {
   "cell_type": "code",
   "execution_count": null,
   "metadata": {},
   "outputs": [],
   "source": [
    "ukazme_si()"
   ]
  },
  {
   "cell_type": "markdown",
   "metadata": {},
   "source": [
    "#### Position-only parameters\n",
    "Novejsi varianta zapisu, kdy lomitkem oddelime skupinu **pozicnich** a **klicovych** parametru pri definici funkce: "
   ]
  },
  {
   "cell_type": "code",
   "execution_count": null,
   "metadata": {},
   "outputs": [],
   "source": [
    "def ukazme_si(par1, par2, /, par3):\n",
    "    print(f\"To je {par1}!\")\n",
    "    print(f\"To je {par2}!\")\n",
    "    print(f\"To je {par3}!\")"
   ]
  },
  {
   "cell_type": "code",
   "execution_count": null,
   "metadata": {},
   "outputs": [],
   "source": [
    "ukazme_si(\"Matous\", \"Lukas\", \"Honzik\")"
   ]
  },
  {
   "cell_type": "code",
   "execution_count": null,
   "metadata": {},
   "outputs": [],
   "source": [
    "ukazme_si(par1=\"Matous\", par2=\"Lukas\", par3=\"Honzik\")"
   ]
  },
  {
   "cell_type": "code",
   "execution_count": null,
   "metadata": {
    "scrolled": true
   },
   "outputs": [],
   "source": [
    "ukazme_si(\"Matous\", \"Lukas\", par3=\"Marecek\")"
   ]
  },
  {
   "cell_type": "markdown",
   "metadata": {},
   "source": [
    "#### *args\n",
    "Specialni varianta zapisu parametru (argumentu) funkce, kde pracuji s **ruznou delkou** hodnot argumentu. <br />\n",
    "Vkladane hodnoty argumentu jsou v podstate seznam(tuple):"
   ]
  },
  {
   "cell_type": "code",
   "execution_count": null,
   "metadata": {},
   "outputs": [],
   "source": [
    "def ukazme_si(*jmena):\n",
    "    for jmeno in jmena:\n",
    "        print(f\"To je {jmeno}!\")"
   ]
  },
  {
   "cell_type": "code",
   "execution_count": null,
   "metadata": {},
   "outputs": [],
   "source": [
    "ukazme_si(\"Matous\")"
   ]
  },
  {
   "cell_type": "code",
   "execution_count": null,
   "metadata": {
    "scrolled": true
   },
   "outputs": [],
   "source": [
    "ukazme_si(\"Matous\", \"Lukas\", \"Honzik\", \"Harold\")"
   ]
  },
  {
   "cell_type": "markdown",
   "metadata": {},
   "source": [
    "#### **kwargs\n",
    "Dalsi specialni pripad pro zapis parametru a argumentu. Tentokrat vkladam hodnoty argumentu jako pary **klic** & **hodnota** ze slovniku:"
   ]
  },
  {
   "cell_type": "code",
   "execution_count": null,
   "metadata": {},
   "outputs": [],
   "source": [
    "def func(**kwargs):\n",
    "    for klic, hodnota in kwargs.items():\n",
    "        print(f\"{klic=} -> {hodnota=}\")"
   ]
  },
  {
   "cell_type": "code",
   "execution_count": null,
   "metadata": {},
   "outputs": [],
   "source": [
    "func(cislo=11)"
   ]
  },
  {
   "cell_type": "code",
   "execution_count": null,
   "metadata": {},
   "outputs": [],
   "source": [
    "func(cislo=11, jmeno=\"Matous\", datum=\"11.11.2011\")"
   ]
  },
  {
   "cell_type": "markdown",
   "metadata": {},
   "source": [
    "#### Kombinace jednotlivych zpusobu\n",
    "Jednotlive varianty muzeme kombinovat pri praci s funkcemi. Zasadni je dodrzet spravne poradi parametru:"
   ]
  },
  {
   "cell_type": "code",
   "execution_count": null,
   "metadata": {},
   "outputs": [],
   "source": [
    "def ukazme_si(par1, par2, *args, **kwargs):\n",
    "    # TODO\n",
    "    if kwargs.get(\"prepinac\") == True:\n",
    "        for jmeno in args:\n",
    "            print(f\"{par2} {jmeno}!\")\n",
    "    else:\n",
    "        print(f\"{par1}!\")"
   ]
  },
  {
   "cell_type": "code",
   "execution_count": null,
   "metadata": {},
   "outputs": [],
   "source": [
    "ukazme_si(\"Tot vse\", \"To je\", \"Matous\", \"Honzik\", \"Luki\", \"Harold\", prepinac=True)"
   ]
  },
  {
   "cell_type": "code",
   "execution_count": null,
   "metadata": {},
   "outputs": [],
   "source": [
    "ukazme_si(\"Tot vse\", \"To je\", \"Matous\", \"Honzik\", \"Luki\", \"Harold\", prepinac=False)"
   ]
  },
  {
   "cell_type": "markdown",
   "metadata": {},
   "source": [
    "---\n",
    "### Funkce s vypisem\n",
    "Nyni muzeme s novymi znalostmi doplnit funkci `nabidka`:"
   ]
  },
  {
   "cell_type": "code",
   "execution_count": null,
   "metadata": {},
   "outputs": [],
   "source": [
    "from IPython.display import clear_output"
   ]
  },
  {
   "cell_type": "code",
   "execution_count": null,
   "metadata": {},
   "outputs": [],
   "source": [
    "def nabidka(*operace) -> None:\n",
    "    nabidka = \" | \".join(operace)\n",
    "    SEP = \"-\" * len(nabidka)\n",
    "    print(SEP, nabidka, SEP, sep=\"\\n\")"
   ]
  },
  {
   "cell_type": "markdown",
   "metadata": {},
   "source": [
    "Potrebujeme vlozit vetsi pocet argumentu. Dale budeme zapis rozsirovat, takze bude nabidka operatoru v case ruzna:"
   ]
  },
  {
   "cell_type": "code",
   "execution_count": null,
   "metadata": {},
   "outputs": [],
   "source": [
    "nabidka(\"+\", \"-\", \"*\", \"/\", \"prum\", \"pow\", \"quit\")"
   ]
  },
  {
   "cell_type": "markdown",
   "metadata": {},
   "source": [
    "### Funkce pro umocnovani"
   ]
  },
  {
   "cell_type": "code",
   "execution_count": null,
   "metadata": {},
   "outputs": [],
   "source": [
    "# x, y -> x-hodnota; y-exponent\n",
    "def umocneni() -> int:\n",
    "    x = int(input(\"hodnota:\"))  # muze byt i float\n",
    "    y = int(input(\"exponent:\"))\n",
    "    return x ** y"
   ]
  },
  {
   "cell_type": "markdown",
   "metadata": {},
   "source": [
    "### Funkce pro vypocet prumeru"
   ]
  },
  {
   "cell_type": "code",
   "execution_count": null,
   "metadata": {},
   "outputs": [],
   "source": [
    "# vstup -> 1, 2, 3, 4, 5 -> zpracujeme -> vratime 3.0\n",
    "def prumer():\n",
    "    rada_cisel = []\n",
    "    while (vstup := input(\"cislo:\")) != \"quit\":\n",
    "        if vstup.isnumeric():\n",
    "            rada_cisel.append(int(vstup))\n",
    "        continue\n",
    "    return sum(rada_cisel) / len(rada_cisel)  "
   ]
  },
  {
   "cell_type": "code",
   "execution_count": null,
   "metadata": {},
   "outputs": [],
   "source": [
    "vysledek = prumer()\n",
    "print(f\"Vysledek: {vysledek}\")"
   ]
  },
  {
   "cell_type": "markdown",
   "metadata": {},
   "source": [
    "---\n",
    "### 5. Ramce (~scopes)\n",
    "*Scope* nebo *ramec* je koncept, na kterem pracuje spousta programovacich jazyku, Python neni vyjimkou. Prostredi v podstate resi tuto otazku: **\"K jakym promennym mam nyni pristup?\"**<br />"
   ]
  },
  {
   "cell_type": "markdown",
   "metadata": {},
   "source": [
    "#### Globalni ramec"
   ]
  },
  {
   "cell_type": "code",
   "execution_count": null,
   "metadata": {
    "scrolled": true
   },
   "outputs": [],
   "source": [
    "print(jmeno)"
   ]
  },
  {
   "cell_type": "markdown",
   "metadata": {},
   "source": [
    "Po spusteni predchozi bunky s funkci `print` dostaneme chybu s argumentem: `name 'jmeno' is not defined`.<br />\n",
    "Duvodem je absence promenne `jmeno`. Jinak receno, promenna `jmeno` se nenachazi v nasem aktualnim *ramci*.\n",
    "<br />\n"
   ]
  },
  {
   "cell_type": "code",
   "execution_count": null,
   "metadata": {},
   "outputs": [],
   "source": [
    "jmeno = \"Matous\""
   ]
  },
  {
   "cell_type": "code",
   "execution_count": null,
   "metadata": {},
   "outputs": [],
   "source": [
    "print(jmeno)"
   ]
  },
  {
   "cell_type": "markdown",
   "metadata": {},
   "source": [
    "Tentokrat jsme nejprve vytvoril odkaz `jmeno`na hodnotu `\"Matous\"` a nas zapis opet funguje. Vytvorili jsme totiz promennou `jmeno` v _globalnim_ ramci. **Globalni** znamena, ze bude dostupna kazdemu objektu v nasem programu (podminkovy zapis, cyklus, funkce, aj.)<br />\n",
    "\n",
    "Overit si promenne, funkce, ktere mame dostupne v aktivnim **globalnim** prostredi muzeme pomoci funkce `globals`."
   ]
  },
  {
   "cell_type": "code",
   "execution_count": null,
   "metadata": {},
   "outputs": [],
   "source": [
    "globals()"
   ]
  },
  {
   "cell_type": "markdown",
   "metadata": {},
   "source": [
    "#### Lokalni ramec"
   ]
  },
  {
   "cell_type": "code",
   "execution_count": null,
   "metadata": {},
   "outputs": [],
   "source": [
    "def funkce():\n",
    "    jmeno = \"Lukas\"\n",
    "    print(jmeno)"
   ]
  },
  {
   "cell_type": "code",
   "execution_count": null,
   "metadata": {},
   "outputs": [],
   "source": [
    "funkce()"
   ]
  },
  {
   "cell_type": "markdown",
   "metadata": {},
   "source": [
    "**Stejna chyba**: `name 'jmeno' is not defined`.<br />\n",
    "\n",
    "Tentokrat vsak mame promennou `jmeno` predepsanou. Problem je, ze promenna `jmeno` tentokrat neexistuje v **globalnim ramci**. Kazda funkce ma svuj vlastni ramec, **lokalni ramec** a ty jsou vzajemne izolovana. Tedy izolovana i od globalniho ramce."
   ]
  },
  {
   "cell_type": "code",
   "execution_count": null,
   "metadata": {},
   "outputs": [],
   "source": [
    "jmeno = \"Matous\"\n",
    "\n",
    "def funkce():\n",
    "    jmeno = \"Lukas\"\n",
    "\n",
    "\n",
    "print(jmeno)"
   ]
  },
  {
   "cell_type": "markdown",
   "metadata": {},
   "source": [
    "*pozn.* lokalni ramec se tyka funkci. Pokud zapis odsadim mimo funkci, jde porad o **globalni** ramec:"
   ]
  },
  {
   "cell_type": "code",
   "execution_count": null,
   "metadata": {},
   "outputs": [],
   "source": [
    "jmeno = \"\"  # False\n",
    "\n",
    "if jmeno:\n",
    "    prijmeni = \"Marny\"\n",
    "\n",
    "def funkce():\n",
    "    jmeno = \"Lukas\"\n",
    "\n",
    "\n",
    "print(prijmeni)"
   ]
  },
  {
   "cell_type": "markdown",
   "metadata": {},
   "source": [
    "Pokud chceme mit pristup k promenne `jmeno` uvnitr funkce `funkce()`, potom musim presunout funkci `print` do jejiho lokalniho prostredi:"
   ]
  },
  {
   "cell_type": "code",
   "execution_count": null,
   "metadata": {},
   "outputs": [],
   "source": [
    "jmeno = \"Matous\"\n",
    "\n",
    "def funkce():\n",
    "    jmeno = \"Lukas\"\n",
    "    print(jmeno)"
   ]
  },
  {
   "cell_type": "code",
   "execution_count": null,
   "metadata": {},
   "outputs": [],
   "source": [
    "funkce()"
   ]
  },
  {
   "cell_type": "markdown",
   "metadata": {},
   "source": [
    "Pokud chcete overit, jake promenne mate v danem lokalnim prostredi dostupne, pouzijte uvnitr konkretniho prostredi funkci `locals`:"
   ]
  },
  {
   "cell_type": "code",
   "execution_count": null,
   "metadata": {},
   "outputs": [],
   "source": [
    "jmeno = \"Matous\"\n",
    "\n",
    "def funkce():\n",
    "    jmeno = \"Lukas\"\n",
    "    prijmeni = \"Nejaky\"\n",
    "    print(locals())\n",
    "\n",
    "# print(locals()) -> globals()"
   ]
  },
  {
   "cell_type": "code",
   "execution_count": null,
   "metadata": {},
   "outputs": [],
   "source": [
    "funkce()  # pouze lokalni ramec funkce 'funkce()'"
   ]
  },
  {
   "cell_type": "markdown",
   "metadata": {},
   "source": [
    "#### Priklad:"
   ]
  },
  {
   "cell_type": "code",
   "execution_count": null,
   "metadata": {},
   "outputs": [],
   "source": [
    "jmeno = \"Matous\"\n",
    "\n",
    "def funkce():\n",
    "    jmeno = \"Lukas\"\n",
    "    return jmeno"
   ]
  },
  {
   "cell_type": "code",
   "execution_count": null,
   "metadata": {},
   "outputs": [],
   "source": [
    "print(jmeno)\n",
    "print(funkce())"
   ]
  },
  {
   "cell_type": "markdown",
   "metadata": {},
   "source": [
    "#### Slozitejsi priklad:\n",
    "Priklad niz zahrnuje znalosti o tzv. _enclosing scope_ (tedy uzavirajicim + uzavrenem ramec).<br />\n",
    "*pozn*. materialy budou dostupne v zaveru techto materialu pripadne v materialech na portalu engeta.com"
   ]
  },
  {
   "cell_type": "code",
   "execution_count": null,
   "metadata": {},
   "outputs": [],
   "source": [
    "prostredi = \"globalni\"\n",
    "\n",
    "def funkce_a():\n",
    "    prostredi = \"uzavirajici\"\n",
    "\n",
    "    def funkce_b():\n",
    "        prostredi = \"lokalni\"\n",
    "        print(prostredi)\n",
    "\n",
    "    funkce_b()\n",
    "funkce_a()"
   ]
  },
  {
   "cell_type": "markdown",
   "metadata": {},
   "source": [
    "#### Built-in ramec, priklad"
   ]
  },
  {
   "cell_type": "code",
   "execution_count": null,
   "metadata": {},
   "outputs": [],
   "source": [
    "def funkce_a():\n",
    "\n",
    "    \n",
    "    def funkce_b():\n",
    "        return sum\n",
    "    \n",
    "    return funkce_b()\n",
    "\n",
    "print(funkce_a())"
   ]
  },
  {
   "cell_type": "markdown",
   "metadata": {},
   "source": [
    "*pozn.* pro zobrazeni dostupnych objektu z ramce **built-in** vyzkousejte prikaz:`dir(__builtins__)`\n",
    "\n",
    "---"
   ]
  },
  {
   "cell_type": "markdown",
   "metadata": {},
   "source": [
    "### 6. Pravidla ramcu\n",
    "\n",
    "Struktura prostredi umoznuje hierarchicke hledani promennych:\n",
    "1. Nejprve prohleda **lokalni** prostredi, v nemz se nachazi\n",
    "2. Pokud neni uvnitr, zkus **uzavirajici** prostredi (nebo rodicovske)\n",
    "3. Pokud neni uvnitr uzavirajiciho prostredi, posli interpret do **globalniho** prostredi\n",
    "4. Pokud neni uvnitr globalniho, zkus seznam **built-in** prostredi\n",
    "5. `NameError` "
   ]
  },
  {
   "cell_type": "markdown",
   "metadata": {},
   "source": [
    "### 7. Dokumentace (~docstring)"
   ]
  },
  {
   "cell_type": "markdown",
   "metadata": {},
   "source": [
    "Dokumentace funkce slouzi k lepsimu porozumeni ucelu funkce, jeho fungovani, prip. funkcnich parametru. Dale muze obsahovat demonstraci funkcionality, pripadne **testy**:"
   ]
  },
  {
   "cell_type": "code",
   "execution_count": null,
   "metadata": {},
   "outputs": [],
   "source": [
    "def specialni_funkce(cislo: int, mocnina: int) -> int:\n",
    "    \"\"\"\n",
    "    Popis:\n",
    "    ------\n",
    "    Tato funkce vezme parametr `cislo` a umocneni jej\n",
    "    o hodnotu v parametru `mocnina`.\n",
    "    \n",
    "    Ukazka:\n",
    "    -------\n",
    "    cislo : int = 5\n",
    "    mocnina : int = 2\n",
    "    Funkce vrati hodnotu : int = 25\n",
    "    \"\"\"\n",
    "    return cislo ** mocnina"
   ]
  },
  {
   "cell_type": "code",
   "execution_count": null,
   "metadata": {},
   "outputs": [],
   "source": [
    "help(specialni_funkce)"
   ]
  },
  {
   "cell_type": "code",
   "execution_count": null,
   "metadata": {},
   "outputs": [],
   "source": [
    "specialni_funkce(4, 2)"
   ]
  },
  {
   "cell_type": "markdown",
   "metadata": {},
   "source": [
    "### Funkce pro zakladni pocitani"
   ]
  },
  {
   "cell_type": "code",
   "execution_count": 1,
   "metadata": {},
   "outputs": [],
   "source": [
    "# TODO - \"+\"/\"-\"\n",
    "def pocitani():\n",
    "    celkem = \"(\"\n",
    "    \n",
    "    while True:\n",
    "        vstup = input(\"tlacitko:\")\n",
    "        \n",
    "        if vstup.isnumeric():\n",
    "            celkem += str(vstup)          \n",
    "        elif vstup in (\"+\", \"-\"):\n",
    "            celkem += str(vstup)\n",
    "        elif vstup in (\"*\", \"/\"):\n",
    "            celkem += f\"){str(vstup)}(\"\n",
    "        elif vstup == \"=\":\n",
    "            celkem += \")\"\n",
    "            print(eval(celkem))\n",
    "            break"
   ]
  },
  {
   "cell_type": "code",
   "execution_count": 3,
   "metadata": {},
   "outputs": [
    {
     "name": "stdout",
     "output_type": "stream",
     "text": [
      "tlacitko:1\n",
      "tlacitko:+\n",
      "tlacitko:4\n",
      "tlacitko:+\n",
      "tlacitko:6\n",
      "tlacitko:*\n",
      "tlacitko:5\n",
      "tlacitko:=\n",
      "55\n"
     ]
    }
   ],
   "source": [
    "pocitani()"
   ]
  },
  {
   "cell_type": "markdown",
   "metadata": {},
   "source": [
    "### Clean code u funkci\n",
    "Jakmile zapisete svoji funkci, chvili se nad ni zastavte a popremyslejte, jestli nelze zapis sikovne zkratit:"
   ]
  },
  {
   "cell_type": "code",
   "execution_count": null,
   "metadata": {},
   "outputs": [],
   "source": [
    "def je_cislo_sude(symb: int):\n",
    "    # TODO"
   ]
  },
  {
   "cell_type": "code",
   "execution_count": null,
   "metadata": {},
   "outputs": [],
   "source": [
    "je_cislo_sude(10)"
   ]
  },
  {
   "cell_type": "code",
   "execution_count": null,
   "metadata": {},
   "outputs": [],
   "source": [
    "je_cislo_sude(15)"
   ]
  },
  {
   "cell_type": "markdown",
   "metadata": {},
   "source": [
    "1. `else`\n",
    "2. `return` ohlaseni funkci ukonci, takze neni `else` vubec potreba\n",
    "3. Je vubec potreba podminkovy zapis?"
   ]
  },
  {
   "cell_type": "code",
   "execution_count": null,
   "metadata": {},
   "outputs": [],
   "source": [
    "# TODO"
   ]
  },
  {
   "cell_type": "markdown",
   "metadata": {},
   "source": [
    "---\n",
    "## Celkovy kod\n",
    "\n",
    "### Uvodni sekce, importovani"
   ]
  },
  {
   "cell_type": "code",
   "execution_count": 4,
   "metadata": {},
   "outputs": [],
   "source": [
    "from IPython.display import clear_output"
   ]
  },
  {
   "cell_type": "markdown",
   "metadata": {},
   "source": [
    "### Defince vsech funkci"
   ]
  },
  {
   "cell_type": "code",
   "execution_count": 5,
   "metadata": {},
   "outputs": [],
   "source": [
    "def nabidka(*operace):\n",
    "    vyber = ' | '.join(operace)\n",
    "    SEP = \"-\" * len(vyber)\n",
    "    print(SEP, vyber, SEP, sep=\"\\n\")  "
   ]
  },
  {
   "cell_type": "code",
   "execution_count": 6,
   "metadata": {},
   "outputs": [],
   "source": [
    "def umocneni():\n",
    "    clear_output()\n",
    "    x1 = input(\"hodnota:\")\n",
    "    x2 = input(\"mocnina:\")\n",
    "    return int(x1) ** int(x2)"
   ]
  },
  {
   "cell_type": "code",
   "execution_count": 7,
   "metadata": {},
   "outputs": [],
   "source": [
    "def prumer():\n",
    "    clear_output()\n",
    "    rada_cisel = list()\n",
    "    while (vstupek := input(\"vstup\")) != \"quit\":\n",
    "        if vstupek.isnumeric():\n",
    "            rada_cisel.append(int(vstupek))\n",
    "        continue\n",
    "    return sum(rada_cisel) / len(rada_cisel)     "
   ]
  },
  {
   "cell_type": "code",
   "execution_count": 8,
   "metadata": {},
   "outputs": [],
   "source": [
    "def pocitani():\n",
    "    clear_output()  # os.system(\"clear\")\n",
    "    celkem = \"(\"\n",
    "    while True:\n",
    "        vstupek = input(\"tlacitko:\")\n",
    "            \n",
    "        if vstupek.isnumeric():\n",
    "            celkem += str(vstupek)\n",
    "        elif vstupek in (\"+\", \"-\"):\n",
    "            celkem += str(vstupek)\n",
    "        elif vstupek in (\"/\", \"*\"):\n",
    "            celkem += f\"){vstupek}(\"\n",
    "        elif vstupek == \"=\":\n",
    "            celkem += \")\" if celkem[:-1] != \")\" else \"\"\n",
    "            print(eval(celkem))\n",
    "            break"
   ]
  },
  {
   "cell_type": "markdown",
   "metadata": {},
   "source": [
    "### Dopiseme hlavni cyklus pomoci funkci"
   ]
  },
  {
   "cell_type": "code",
   "execution_count": 9,
   "metadata": {},
   "outputs": [
    {
     "name": "stdout",
     "output_type": "stream",
     "text": [
      "ukoncuji..\n"
     ]
    }
   ],
   "source": [
    "while True:\n",
    "    nabidka(\"+\", \"-\", \"*\", \"/\", \"prum\", \"pow\", \"quit\")\n",
    "    vyber = input(\"vyber operaci:\")\n",
    "    \n",
    "    if vyber == \"quit\":\n",
    "        clear_output()\n",
    "        print(\"ukoncuji..\")\n",
    "        break\n",
    "    elif vyber in (\"+\", \"-\", \"*\", \"/\"):\n",
    "        pocitani()\n",
    "    elif vyber == \"prum\":\n",
    "        print(f\"Prumer: {prumer()}\")\n",
    "    elif vyber == \"pow\":\n",
    "        clear_output()\n",
    "        print(f\"Umocnena hodn.: {umocneni()}\")"
   ]
  },
  {
   "cell_type": "markdown",
   "metadata": {},
   "source": [
    "---\n",
    "\n",
    "### 8. Enclosing scope (pokrocily material!)\n",
    "\n",
    "<img src=https://media.giphy.com/media/RyXVu4ZW454IM/source.gif width=\"500\">\n",
    "\n",
    "Jde o ramce, kdy do jedne funkce vkladame (nestujeme) jinou funkci:"
   ]
  },
  {
   "cell_type": "code",
   "execution_count": null,
   "metadata": {},
   "outputs": [],
   "source": [
    "def vnejsi_func(em):\n",
    "    # lokalni ramec\n",
    "    # uzavirajici ramec\n",
    "    mail = em.split(\"@\")\n",
    "    \n",
    "    \n",
    "    def vnitrni_func():\n",
    "        # lokalni ramec\n",
    "        return mail[1].split(\".\")\n",
    "    \n",
    "    \n",
    "    domena, *zbytek = vnitrni_func()\n",
    "    return domena"
   ]
  },
  {
   "cell_type": "markdown",
   "metadata": {},
   "source": [
    "V predchozim prikladu mame 2 lokalni ramce, kdy do jednoho patri `vnitrni_func` a  do druheho `vnejsi_func`. Soucasne funkce `vnejsi_func` patri do uzavirajiciho ramce.\n",
    "\n",
    "Dale promenna `mail` neni v prikladu vys **lokalni** promenna, ale **nelokalni** promenna, protoze je definovana v ramci enclosing (uzavirajiciho) ramce."
   ]
  },
  {
   "cell_type": "code",
   "execution_count": null,
   "metadata": {},
   "outputs": [],
   "source": [
    "vnitrni_func()"
   ]
  },
  {
   "cell_type": "markdown",
   "metadata": {},
   "source": [
    "Samotnou vnitrni funkci `vnitrni_func` nelze spustit. Je to kvuli tomu, ze k jeji inicializaci dojde pouze pri spusteni funkce `vnejsi_func`:"
   ]
  },
  {
   "cell_type": "code",
   "execution_count": null,
   "metadata": {},
   "outputs": [],
   "source": [
    "print(f\"Top-level domain: {vnejsi_func('Matous@gmail.com')}\")"
   ]
  },
  {
   "cell_type": "markdown",
   "metadata": {},
   "source": [
    "Vsechny **nelokalni** promenne (vytvorene v *enclosing scope*) jsou viditelne uvnitr funkce `vnitrni_func`, pokud jsou definovane pred spoustenim (volanim) samotne vnitrni funkce `vnitrni_func`:"
   ]
  },
  {
   "cell_type": "code",
   "execution_count": null,
   "metadata": {},
   "outputs": [],
   "source": [
    "def vnejsi_func(em):\n",
    "    mail = em.split(\"@\")\n",
    "    \n",
    "    \n",
    "    def vnitrni_func():\n",
    "        print(pomocna_pr)\n",
    "        return mail[1].split(\".\")\n",
    "    \n",
    "    \n",
    "    domena, *zbytek = vnitrni_func()\n",
    "    pomocna_pr = \"Bam!\"\n",
    "    return domena"
   ]
  },
  {
   "cell_type": "code",
   "execution_count": null,
   "metadata": {},
   "outputs": [],
   "source": [
    "print(f\"Top-level domain: {vnejsi_func('Matous@gmail.com')}\")"
   ]
  },
  {
   "cell_type": "markdown",
   "metadata": {},
   "source": [
    "#### Aplikace uzavirajiciho ramce"
   ]
  },
  {
   "cell_type": "markdown",
   "metadata": {},
   "source": [
    "Principu uzavirajiciho ramce se pouziva u tzv. *closures*. Principem je zachazeni s nestovanou funkci jako udajem (ne jako funkci)"
   ]
  },
  {
   "cell_type": "code",
   "execution_count": null,
   "metadata": {},
   "outputs": [],
   "source": [
    "def umocnovaci_funkce(expo: int):\n",
    "    \n",
    "    \n",
    "    def umocni_hodnotu(zakl: int):\n",
    "        return zakl ** expo\n",
    "    \n",
    "    \n",
    "    return umocni_hodnotu"
   ]
  },
  {
   "cell_type": "code",
   "execution_count": null,
   "metadata": {},
   "outputs": [],
   "source": [
    "na_druhou = umocnovaci_funkce(2)\n",
    "na_druhou(5)"
   ]
  },
  {
   "cell_type": "markdown",
   "metadata": {},
   "source": [
    "*pozn.* funkci toho druhu oznacujeme jako **factory function** (tedy *tovarni funkci*). Presnejsi tedy **closure factory**, protoze chceme oznacit, ze funkce vytvori a vrati **closure**.\n",
    "\n",
    "1. Funkce `umocnovaci_funkce`je tedy factory funkce. Pri spusteni vytvori pokazde novou funkci\n",
    "2. Spustime funkci `umocnovaci_funkce` s argumentem `2`\n",
    "3. Nacte si funkci `umocni_hodnotu`\n",
    "4. Nachystej si funkci `umocni_hodnotu` s hodnotou `expo = 2`\n",
    "5. Predej nachystanou funkci s hodnotou do funkce `umocnovaci_funkce`\n",
    "6. Vrat vysledek z funkce `umocni_hodnotu` za predani hodnoty do parametru `zakl`"
   ]
  },
  {
   "cell_type": "markdown",
   "metadata": {},
   "source": [
    "#### Prakticka ukazka"
   ]
  },
  {
   "cell_type": "code",
   "execution_count": null,
   "metadata": {},
   "outputs": [],
   "source": [
    "def mam_opravneni(funkce: str):\n",
    "    \n",
    "    \n",
    "    def vnitrni_f(uzivatel: str):\n",
    "        if uzivatel == \"root\":\n",
    "            return f\"{uzivatel} ma opravneni na dalsi funkcionalitu pro {funkce}\"\n",
    "        else:\n",
    "            return f\"{uzivatel} nema opravneni na dalsi funkcionalitu pro {funkce}\"\n",
    "    \n",
    "    \n",
    "    return vnitrni_f"
   ]
  },
  {
   "cell_type": "code",
   "execution_count": null,
   "metadata": {},
   "outputs": [],
   "source": [
    "aktualni_uzivatel = mam_opravneni(\"sudo apt update\")\n",
    "aktualni_uzivatel(\"root\")"
   ]
  },
  {
   "cell_type": "code",
   "execution_count": null,
   "metadata": {},
   "outputs": [],
   "source": [
    "aktualni_uzivatel = mam_opravneni(\"sudo apt update\")\n",
    "aktualni_uzivatel(\"matous\")"
   ]
  }
 ],
 "metadata": {
  "kernelspec": {
   "display_name": "Python 3",
   "language": "python",
   "name": "python3"
  },
  "language_info": {
   "codemirror_mode": {
    "name": "ipython",
    "version": 3
   },
   "file_extension": ".py",
   "mimetype": "text/x-python",
   "name": "python",
   "nbconvert_exporter": "python",
   "pygments_lexer": "ipython3",
   "version": "3.8.5"
  }
 },
 "nbformat": 4,
 "nbformat_minor": 4
}
